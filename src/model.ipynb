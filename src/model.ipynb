{
 "cells": [
  {
   "cell_type": "markdown",
   "metadata": {},
   "source": [
    "## Import  necessary Libraries"
   ]
  },
  {
   "cell_type": "code",
   "execution_count": 10,
   "metadata": {},
   "outputs": [],
   "source": [
    "from statsmodels.tsa.arima.model import ARIMA\n",
    "from statsmodels.tsa.statespace.sarimax import SARIMAX\n",
    "import numpy as np\n",
    "from math import sqrt\n",
    "import pandas as pd\n",
    "from sklearn.model_selection import train_test_split\n",
    "from sklearn.preprocessing import PolynomialFeatures\n",
    "from sklearn.linear_model import LinearRegression\n",
    "from sklearn.pipeline import make_pipeline\n",
    "from sklearn.metrics import mean_squared_error\n",
    "from matplotlib import pyplot as plt"
   ]
  },
  {
   "cell_type": "markdown",
   "metadata": {},
   "source": [
    "## Problem statement\n",
    "- Forecasting weather in near future is a very important task. \n",
    "- Purposes: It helps us to plan our day accordingly.\n",
    "\n",
    "   In this problem, we are going to predict the weather for the next 7 days. We are given the weather data of the past 3 months. We will use this data to train our model and then predict the weather for the next 7 days.\n"
   ]
  },
  {
   "cell_type": "markdown",
   "metadata": {},
   "source": [
    "## Data prerations"
   ]
  },
  {
   "cell_type": "code",
   "execution_count": 5,
   "metadata": {},
   "outputs": [
    {
     "data": {
      "text/html": [
       "<div>\n",
       "<style scoped>\n",
       "    .dataframe tbody tr th:only-of-type {\n",
       "        vertical-align: middle;\n",
       "    }\n",
       "\n",
       "    .dataframe tbody tr th {\n",
       "        vertical-align: top;\n",
       "    }\n",
       "\n",
       "    .dataframe thead th {\n",
       "        text-align: right;\n",
       "    }\n",
       "</style>\n",
       "<table border=\"1\" class=\"dataframe\">\n",
       "  <thead>\n",
       "    <tr style=\"text-align: right;\">\n",
       "      <th></th>\n",
       "      <th>datetime</th>\n",
       "      <th>temp (K)</th>\n",
       "      <th>feels_like</th>\n",
       "      <th>pressure</th>\n",
       "      <th>humidity</th>\n",
       "      <th>temp_min</th>\n",
       "      <th>temp_max</th>\n",
       "      <th>wind_speed</th>\n",
       "      <th>wind_deg</th>\n",
       "      <th>clouds_all</th>\n",
       "      <th>id_weather</th>\n",
       "      <th>main_weather</th>\n",
       "      <th>description_weather</th>\n",
       "      <th>icon_weather</th>\n",
       "    </tr>\n",
       "  </thead>\n",
       "  <tbody>\n",
       "    <tr>\n",
       "      <th>0</th>\n",
       "      <td>2022-12-09 17:00:00</td>\n",
       "      <td>299.16</td>\n",
       "      <td>299.16</td>\n",
       "      <td>1010.0</td>\n",
       "      <td>94.0</td>\n",
       "      <td>299.16</td>\n",
       "      <td>299.16</td>\n",
       "      <td>1.03</td>\n",
       "      <td>0.0</td>\n",
       "      <td>40.0</td>\n",
       "      <td>802.0</td>\n",
       "      <td>Clouds</td>\n",
       "      <td>scattered clouds</td>\n",
       "      <td>03n</td>\n",
       "    </tr>\n",
       "    <tr>\n",
       "      <th>1</th>\n",
       "      <td>2022-12-09 18:00:00</td>\n",
       "      <td>299.16</td>\n",
       "      <td>299.16</td>\n",
       "      <td>1009.0</td>\n",
       "      <td>94.0</td>\n",
       "      <td>299.16</td>\n",
       "      <td>299.16</td>\n",
       "      <td>1.03</td>\n",
       "      <td>0.0</td>\n",
       "      <td>40.0</td>\n",
       "      <td>802.0</td>\n",
       "      <td>Clouds</td>\n",
       "      <td>scattered clouds</td>\n",
       "      <td>03n</td>\n",
       "    </tr>\n",
       "    <tr>\n",
       "      <th>2</th>\n",
       "      <td>2022-12-09 19:00:00</td>\n",
       "      <td>298.16</td>\n",
       "      <td>299.33</td>\n",
       "      <td>1009.0</td>\n",
       "      <td>100.0</td>\n",
       "      <td>298.16</td>\n",
       "      <td>298.16</td>\n",
       "      <td>1.03</td>\n",
       "      <td>0.0</td>\n",
       "      <td>40.0</td>\n",
       "      <td>802.0</td>\n",
       "      <td>Clouds</td>\n",
       "      <td>scattered clouds</td>\n",
       "      <td>03n</td>\n",
       "    </tr>\n",
       "    <tr>\n",
       "      <th>3</th>\n",
       "      <td>2022-12-09 20:00:00</td>\n",
       "      <td>298.16</td>\n",
       "      <td>298.88</td>\n",
       "      <td>1008.0</td>\n",
       "      <td>83.0</td>\n",
       "      <td>298.16</td>\n",
       "      <td>298.16</td>\n",
       "      <td>1.03</td>\n",
       "      <td>20.0</td>\n",
       "      <td>40.0</td>\n",
       "      <td>802.0</td>\n",
       "      <td>Clouds</td>\n",
       "      <td>scattered clouds</td>\n",
       "      <td>03n</td>\n",
       "    </tr>\n",
       "    <tr>\n",
       "      <th>4</th>\n",
       "      <td>2022-12-09 21:00:00</td>\n",
       "      <td>298.16</td>\n",
       "      <td>298.88</td>\n",
       "      <td>1008.0</td>\n",
       "      <td>83.0</td>\n",
       "      <td>298.16</td>\n",
       "      <td>298.16</td>\n",
       "      <td>1.03</td>\n",
       "      <td>50.0</td>\n",
       "      <td>40.0</td>\n",
       "      <td>802.0</td>\n",
       "      <td>Clouds</td>\n",
       "      <td>scattered clouds</td>\n",
       "      <td>03n</td>\n",
       "    </tr>\n",
       "  </tbody>\n",
       "</table>\n",
       "</div>"
      ],
      "text/plain": [
       "              datetime  temp (K)  feels_like  pressure  humidity  temp_min  \\\n",
       "0  2022-12-09 17:00:00    299.16      299.16    1010.0      94.0    299.16   \n",
       "1  2022-12-09 18:00:00    299.16      299.16    1009.0      94.0    299.16   \n",
       "2  2022-12-09 19:00:00    298.16      299.33    1009.0     100.0    298.16   \n",
       "3  2022-12-09 20:00:00    298.16      298.88    1008.0      83.0    298.16   \n",
       "4  2022-12-09 21:00:00    298.16      298.88    1008.0      83.0    298.16   \n",
       "\n",
       "   temp_max  wind_speed  wind_deg  clouds_all  id_weather main_weather  \\\n",
       "0    299.16        1.03       0.0        40.0       802.0       Clouds   \n",
       "1    299.16        1.03       0.0        40.0       802.0       Clouds   \n",
       "2    298.16        1.03       0.0        40.0       802.0       Clouds   \n",
       "3    298.16        1.03      20.0        40.0       802.0       Clouds   \n",
       "4    298.16        1.03      50.0        40.0       802.0       Clouds   \n",
       "\n",
       "  description_weather icon_weather  \n",
       "0    scattered clouds          03n  \n",
       "1    scattered clouds          03n  \n",
       "2    scattered clouds          03n  \n",
       "3    scattered clouds          03n  \n",
       "4    scattered clouds          03n  "
      ]
     },
     "execution_count": 5,
     "metadata": {},
     "output_type": "execute_result"
    }
   ],
   "source": [
    "# read pre_processed data\n",
    "df = pd.read_csv('../data/processed/processed_data.csv')\n",
    "df.head()"
   ]
  },
  {
   "cell_type": "markdown",
   "metadata": {},
   "source": [
    "### Splitting the data into train and test set"
   ]
  },
  {
   "cell_type": "code",
   "execution_count": 13,
   "metadata": {},
   "outputs": [
    {
     "data": {
      "text/plain": [
       "((6969, 9), (1743, 9), (6969,), (1743,))"
      ]
     },
     "execution_count": 13,
     "metadata": {},
     "output_type": "execute_result"
    }
   ],
   "source": [
    "#split data into train and test\n",
    "df_copy = df.drop(columns=['icon_weather','main_weather','description_weather','id_weather','datetime'])\n",
    "x_train,x_test,y_train,y_test = train_test_split(df_copy,df['temp (K)'],test_size=0.2,random_state=0)\n",
    "x_train.shape,x_test.shape,y_train.shape,y_test.shape"
   ]
  },
  {
   "cell_type": "markdown",
   "metadata": {},
   "source": [
    "## Polynomial Regression Model"
   ]
  },
  {
   "cell_type": "code",
   "execution_count": 4,
   "metadata": {},
   "outputs": [
    {
     "name": "stdout",
     "output_type": "stream",
     "text": [
      "Coefficient for temp (K): -0.0\n",
      "Coefficient for feels_like: 0.333\n",
      "Coefficient for pressure: 0.0\n",
      "Coefficient for humidity: -0.0\n",
      "Coefficient for temp_min: -0.0\n",
      "Coefficient for temp_max: 0.333\n",
      "Coefficient for wind_speed: 0.333\n",
      "Coefficient for wind_deg: 0.0\n",
      "Coefficient for clouds_all: -0.0\n"
     ]
    }
   ],
   "source": [
    "# train model Polynomial Regression\n",
    "model = make_pipeline(PolynomialFeatures(2), LinearRegression())\n",
    "model.fit(x_train, y_train)\n",
    "coefficients = model.named_steps['linearregression'].coef_\n",
    "for feature, coef in zip(df_copy.columns, coefficients):\n",
    "    print(f\"Coefficient for {feature}: {coef.round(3)}\")"
   ]
  },
  {
   "cell_type": "markdown",
   "metadata": {},
   "source": [
    "## Metrics: MSE"
   ]
  },
  {
   "cell_type": "code",
   "execution_count": 35,
   "metadata": {},
   "outputs": [
    {
     "name": "stdout",
     "output_type": "stream",
     "text": [
      "Test RMSE: 0.005\n"
     ]
    }
   ],
   "source": [
    "x_test = x_test.reset_index(drop=True)\n",
    "y_test = y_test.reset_index(drop=True)\n",
    "y_pred = model.predict(x_test)\n",
    "# metric\n",
    "rmse = sqrt(mean_squared_error(y_test, y_pred))\n",
    "print('Test RMSE: %.3f' % rmse)"
   ]
  },
  {
   "cell_type": "markdown",
   "metadata": {},
   "source": [
    "Visualizing the results"
   ]
  },
  {
   "cell_type": "code",
   "execution_count": 18,
   "metadata": {},
   "outputs": [
    {
     "ename": "NameError",
     "evalue": "name 'y_pred' is not defined",
     "output_type": "error",
     "traceback": [
      "\u001b[0;31m---------------------------------------------------------------------------\u001b[0m",
      "\u001b[0;31mNameError\u001b[0m                                 Traceback (most recent call last)",
      "Cell \u001b[0;32mIn[18], line 3\u001b[0m\n\u001b[1;32m      1\u001b[0m \u001b[38;5;66;03m#visualize the results\u001b[39;00m\n\u001b[1;32m      2\u001b[0m \u001b[38;5;28;01mimport\u001b[39;00m \u001b[38;5;21;01mmatplotlib\u001b[39;00m\u001b[38;5;21;01m.\u001b[39;00m\u001b[38;5;21;01mpyplot\u001b[39;00m \u001b[38;5;28;01mas\u001b[39;00m \u001b[38;5;21;01mplt\u001b[39;00m\n\u001b[0;32m----> 3\u001b[0m plt\u001b[38;5;241m.\u001b[39mplot(y_test, \u001b[43my_pred\u001b[49m, \u001b[38;5;124m'\u001b[39m\u001b[38;5;124m.\u001b[39m\u001b[38;5;124m'\u001b[39m)\n\u001b[1;32m      4\u001b[0m plt\u001b[38;5;241m.\u001b[39mtitle(\u001b[38;5;124m'\u001b[39m\u001b[38;5;124mPolynomial Regression\u001b[39m\u001b[38;5;124m'\u001b[39m)\n\u001b[1;32m      5\u001b[0m plt\u001b[38;5;241m.\u001b[39mxlabel(\u001b[38;5;124m'\u001b[39m\u001b[38;5;124mTrue Values\u001b[39m\u001b[38;5;124m'\u001b[39m)\n",
      "\u001b[0;31mNameError\u001b[0m: name 'y_pred' is not defined"
     ]
    }
   ],
   "source": [
    "#visualize the results\n",
    "import matplotlib.pyplot as plt\n",
    "plt.plot(y_test, y_pred, '.')\n",
    "plt.title('Polynomial Regression')\n",
    "plt.xlabel('True Values')\n",
    "plt.ylabel('Predictions')\n",
    "plt.show()\n"
   ]
  },
  {
   "cell_type": "markdown",
   "metadata": {},
   "source": [
    "$$\\text{temp (K)} = 0.333*\\text{feels like} + 0.333*\\text{temp max} + 0.333*\\text{wind speed}$$"
   ]
  },
  {
   "cell_type": "markdown",
   "metadata": {},
   "source": [
    "## ARIMA (Auto Regressive Integrated Moving Average) Model"
   ]
  },
  {
   "cell_type": "code",
   "execution_count": 37,
   "metadata": {},
   "outputs": [
    {
     "name": "stdout",
     "output_type": "stream",
     "text": [
      "Test RMSE: 1.164\n"
     ]
    }
   ],
   "source": [
    "# model ARIMA(AutoRegressive Integrated Moving Average)\n",
    "\n",
    "# split data into train and test sets\n",
    "X = df['temp (K)'].values\n",
    "size = int(len(X) * 0.66)\n",
    "train, test = X[0:size], X[size:len(X)]\n",
    "history = [x for x in train]\n",
    "predictions = list()\n",
    "\n",
    "# walk-forward validation\n",
    "for t in range(len(test)):\n",
    "    model = ARIMA(history, order=(2,1,0))\n",
    "    model_fit = model.fit()\n",
    "    output = model_fit.forecast()\n",
    "    yhat = output[0]\n",
    "    predictions.append(yhat)\n",
    "    obs = test[t]\n",
    "    history.append(obs)\n",
    "\n",
    "# evaluate forecasts\n",
    "rmse = sqrt(mean_squared_error(test, predictions))\n",
    "print('Test RMSE: %.3f' % rmse)\n"
   ]
  },
  {
   "cell_type": "code",
   "execution_count": 17,
   "metadata": {},
   "outputs": [
    {
     "name": "stdout",
     "output_type": "stream",
     "text": [
      "Test RMSE: 3.373\n"
     ]
    }
   ],
   "source": [
    "# Model ARIMA(AutoRegressive Integrated Moving Average)\n",
    "history = list(y_train)\n",
    "predictions = list()\n",
    "\n",
    "# Walk-forward validation\n",
    "for t in range(len(y_test)):\n",
    "    model = ARIMA(history, order=(2, 1, 0))\n",
    "    model_fit = model.fit()\n",
    "    output = model_fit.forecast()\n",
    "    yhat = output[0]\n",
    "    predictions.append(yhat)\n",
    "    obs = y_test.iloc[t]\n",
    "    history.append(obs)\n",
    "\n",
    "# Evaluate forecasts\n",
    "rmse = sqrt(mean_squared_error(y_test, predictions))\n",
    "print('Test RMSE: %.3f' % rmse)"
   ]
  },
  {
   "cell_type": "code",
   "execution_count": 44,
   "metadata": {},
   "outputs": [
    {
     "name": "stdout",
     "output_type": "stream",
     "text": [
      "[0.18102282 0.17507519 1.27815252]\n"
     ]
    }
   ],
   "source": [
    "# Truy cập tất cả các hệ số\n",
    "all_coefs = model_fit.params\n",
    "print(all_coefs)"
   ]
  },
  {
   "cell_type": "code",
   "execution_count": 31,
   "metadata": {},
   "outputs": [
    {
     "data": {
      "image/png": "[encoded data removed]",
      "text/plain": [
       "<Figure size 640x480 with 1 Axes>"
      ]
     },
     "metadata": {},
     "output_type": "display_data"
    }
   ],
   "source": [
    "#visualize the results\n",
    "plt.plot(test, predictions, '.')\n",
    "plt.xlabel('True Values')\n",
    "plt.ylabel('Predictions')\n",
    "plt.show()"
   ]
  },
  {
   "cell_type": "code",
   "execution_count": null,
   "metadata": {},
   "outputs": [],
   "source": []
  }
 ],
 "metadata": {
  "kernelspec": {
   "display_name": "min_ds-env",
   "language": "python",
   "name": "python3"
  },
  "language_info": {
   "codemirror_mode": {
    "name": "ipython",
    "version": 3
   },
   "file_extension": ".py",
   "mimetype": "text/x-python",
   "name": "python",
   "nbconvert_exporter": "python",
   "pygments_lexer": "ipython3",
   "version": "3.11.6"
  }
 },
 "nbformat": 4,
 "nbformat_minor": 2
}
