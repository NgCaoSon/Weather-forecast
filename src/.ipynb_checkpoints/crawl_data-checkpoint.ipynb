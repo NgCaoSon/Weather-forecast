{
 "cells": [
  {
   "cell_type": "markdown",
   "id": "609e7738-747e-447d-9a9e-cdd38722eab8",
   "metadata": {},
   "source": [
    "## Introduction"
   ]
  },
  {
   "cell_type": "markdown",
   "id": "c0114961-9cc9-4fab-810f-594ab01da69c",
   "metadata": {},
   "source": [
    "- The project involves the analysis of weather data in Ho Chi Minh City over the course of one year, providing an in-depth study of climate variations and weather trends in the region. \n",
    "- The project aims to gain a comprehensive understanding of significant weather changes, including temperature fluctuations and humidity.\n",
    "- Additionally, employing data analysis methods will help identify weather patterns and trends, enabling more accurate predictions of future weather conditions. \n",
    "- This information is valuable not only for individuals interested in weather but also for urban planning and development, as it can assist in making informed decisions related to agriculture, transportation, and environmental management. "
   ]
  },
  {
   "cell_type": "markdown",
   "id": "80ea67b5-11f0-4d3f-9c3b-bc06a3cfb0b3",
   "metadata": {},
   "source": [
    "## Crawl Data"
   ]
  },
  {
   "cell_type": "markdown",
   "id": "eaffae34-c387-4ba8-96e1-1b7c2e5f904e",
   "metadata": {},
   "source": [
    "- The data is crawled from the website https://openweathermap.org/.\n",
    "- Because our OpenWeatherMap account is designated as a student account, we can only collect data within the past year up to the crawl start date.\n",
    "- In order to collect data for each weather index at 1 location, you can use a URL with the following format: \n",
    "https://history.openweathermap.org/data/2.5/history/city?id={id}&type=hour&start={dt}&appid={API_key}\n",
    "    - Note:    \n",
    "          - id: City ID.     \n",
    "          - dt: is a timestamp counted from the Epoch (usually 1/1/1970).    \n",
    "          - API_key: Our API key is 626e8ec21c8de03a592d15a0f2dca7f9.    \n",
    "    - Example: https://history.openweathermap.org/data/2.5/history/city?id=1566083&type=hour&start=1671469200&appid=626e8ec21c8de03a592d15a0f2dca7f9\n",
    "          - In this example, dt = 1670605200 = (2022-12-10). If you click on the url, it will not yield any results because it has exceeded the one-year time limit.\n",
    "    - You need to select a date within a one-year range from the date you are crawling:\n",
    "    - NewExample: https://history.openweathermap.org/data/2.5/history/city?id=1566083&type=hour&start=1685811600&appid=626e8ec21c8de03a592d15a0f2dca7f9\n",
    "- When requesting the URL, you will receive a JSON-formatted response containing information about the weather at the specified timestamp (dt) and the next 23 hours. (total 24 hours).\n",
    "  \n",
    "       "
   ]
  },
  {
   "cell_type": "markdown",
   "id": "23169c2b-a836-4749-a693-087420234646",
   "metadata": {},
   "source": [
    "## Import"
   ]
  },
  {
   "cell_type": "code",
   "execution_count": 1,
   "id": "31409143-9ea2-4dc1-89b0-11161676acc0",
   "metadata": {},
   "outputs": [],
   "source": [
    "import os\n",
    "import sys\n",
    "import pandas as pd\n",
    "import json\n",
    "from datetime import datetime, timedelta\n",
    "import requests"
   ]
  },
  {
   "cell_type": "markdown",
   "id": "206c0063-b5bd-4488-b10a-5aa2de3f0347",
   "metadata": {},
   "source": [
    "## Find the ID of Ho Chi Minh City\n",
    "- The IDs of the cities are located in the file \"city.list.json\". (data/City_ID/city.list.json)\n",
    "- Read the file into a dataframe and find the ID of Ho Chi Minh City."
   ]
  },
  {
   "cell_type": "code",
   "execution_count": 2,
   "id": "a26d0891-b539-43d1-8972-407752dff83e",
   "metadata": {},
   "outputs": [
    {
     "data": {
      "text/plain": [
       "'1566083'"
      ]
     },
     "execution_count": 2,
     "metadata": {},
     "output_type": "execute_result"
    }
   ],
   "source": [
    "# Specify the file path\n",
    "file_path = '../data/City_ID/city.list.json'\n",
    "\n",
    "# Read JSON data from the file\n",
    "with open(file_path, 'r', encoding='utf-8') as file:\n",
    "    data = json.load(file)\n",
    "\n",
    "# Create DataFrame\n",
    "df = pd.json_normalize(data)\n",
    "\n",
    "# Rename columns\n",
    "df = df[['city.id.$numberLong', 'city.name']].rename(columns={'city.id.$numberLong': 'city_id', 'city.name': 'city_name'})\n",
    "\n",
    "name_to_find = 'Thanh pho Ho Chi Minh'\n",
    "\n",
    "def get_id_by_name(name):\n",
    "    row = df.loc[df['city_name'] == name]\n",
    "    if not row.empty:\n",
    "        return row['city_id'].iloc[0]\n",
    "    else:\n",
    "        return None\n",
    "\n",
    "ID_HCM_city = get_id_by_name(name_to_find)\n",
    "\n",
    "ID_HCM_city\n"
   ]
  },
  {
   "cell_type": "code",
   "execution_count": 3,
   "id": "25fdcac1-2bc9-4d77-9536-cbc49013bc8f",
   "metadata": {},
   "outputs": [],
   "source": [
    "def loadDataWeatherOneDay(BASE_URL, ID_HCM_city, timestamp, AIP_ID):\n",
    "    \"\"\"Tạo DataFrame cho mỗi lần request\n",
    "\n",
    "    Args:\n",
    "        BASE_URL (str): 'https://history.openweathermap.org/data/2.5/history/city'\n",
    "        ID_HCM_city (str): ID_HCM_city = '1566083'\n",
    "        timestamp (int): is a timestamp counted from the Epoch (usually 1/1/1970)\n",
    "        AIP_ID (str): '626e8ec21c8de03a592d15a0f2dca7f9'\n",
    "\n",
    "    Returns:\n",
    "        pd.DataFrame: Pandas dataframe kết quả chứa dữ liệu mong muốn.\n",
    "    \"\"\"\n",
    "    \n",
    "    url = f\"{BASE_URL}?id={ID_HCM_city}&type=hour&start={timestamp}&appid={AIP_ID}\"\n",
    "    response = requests.get(url)\n",
    "\n",
    "    if response.status_code == 200 : #and (\"message\" not in response.json().keys())\n",
    "        \n",
    "        # do đó chúng ta kiểm tra xem độ dài của phản hồi có > 1 hay không\n",
    "        if len(response.json()) > 1:\n",
    "            data = response.json()\n",
    "\n",
    "            # Extract the 'list' key from the data\n",
    "            list_data = data.get('list', [])\n",
    "            \n",
    "\n",
    "            # Create DataFrame\n",
    "            df = pd.json_normalize(list_data)\n",
    "            num_columns = pd.json_normalize(df['weather'][0]).shape[1]\n",
    "\n",
    "            # Use json_normalize to flatten the 'weather' column for all rows\n",
    "            weather_df = pd.concat([pd.json_normalize(weather[0]) for weather in df['weather']], axis=1)\n",
    "            \n",
    "            # Reshape the DataFrame\n",
    "            weather_df = pd.DataFrame(weather_df.values.reshape((-1, num_columns)), columns=weather_df.columns[:num_columns])\n",
    "\n",
    "            # Concatenate the original DataFrame with the new weather DataFrame\n",
    "            df = pd.concat([df, weather_df], axis=1)\n",
    "\n",
    "            # Drop the original 'weather' column\n",
    "            df = df.drop('weather', axis=1)\n",
    "            return df\n",
    "\n",
    "\n",
    "        else:\n",
    "            # In thông báo lỗi nếu lệnh gọi API không thành công\n",
    "            print(\"Error in Loading the data. Status Code: \" + str(response.status_code))\n",
    "            return None\n",
    "\n",
    "\n",
    "def loadDataWeather(BASE_URL, ID_HCM_city, AIP_ID, start_date, end_date):\n",
    "    \"\"\"Hàm lấy dữ liệu với ngày bắt đầu và ngày kết thúc\n",
    "      \n",
    "    Args:\n",
    "        BASE_URL (str): 'https://history.openweathermap.org/data/2.5/history/city'\n",
    "        ID_HCM_city (str): ID_HCM_city = '1566083'\n",
    "        AIP_ID (str): '626e8ec21c8de03a592d15a0f2dca7f9'\n",
    "        start_date(datetime): Ngày bắt đầu thu thập dữu liệu.\n",
    "        end_date(datetime):  Ngày kết thúc thu thập dữu liệu.\n",
    "\n",
    "    Returns:\n",
    "        pd.DataFrame: Pandas dataframe kết quả chứa dữ liệu mong muốn.\n",
    "    \"\"\"\n",
    "\n",
    "    cur_month = start_date.month\n",
    "    \n",
    "    current_date = start_date\n",
    "\n",
    "    # Khai báo DataFrame để lưu trữ dữ liệu\n",
    "    df_full = pd.DataFrame()\n",
    "\n",
    "    while current_date <= end_date:\n",
    "    \n",
    "        timestamp = int(current_date.timestamp())\n",
    "\n",
    "        df_dataOneDay = loadDataWeatherOneDay(BASE_URL, ID_HCM_city, timestamp, AIP_ID)\n",
    "    \n",
    "        # Concatenate with the full DataFrame\n",
    "        df_full = pd.concat([df_full, df_dataOneDay], axis=0)\n",
    "        \n",
    "        current_date += timedelta(days=1)\n",
    "        if(current_date.month != cur_month):\n",
    "            print('Complete month: ', cur_month)\n",
    "            cur_month = current_date.month\n",
    "   \n",
    "    return df_full\n"
   ]
  },
  {
   "cell_type": "markdown",
   "id": "ca11a142-d181-49e4-b9f0-76c391103637",
   "metadata": {},
   "source": [
    "## Note: \n",
    "\n",
    "- You should edit the start_date and end_date before running because, as mentioned earlier, the website only allows fetching data within one year from the current date when running this cell.\n",
    "- It will take about 15 minutes for this cell to complete running.."
   ]
  },
  {
   "cell_type": "code",
   "execution_count": null,
   "id": "2a43a394-73dc-4da5-a304-d9c2a2236be7",
   "metadata": {},
   "outputs": [
    {
     "name": "stdout",
     "output_type": "stream",
     "text": [
      "Complete month:  12\n",
      "Complete month:  1\n",
      "Complete month:  2\n",
      "Complete month:  3\n",
      "Complete month:  4\n",
      "Complete month:  5\n",
      "Complete month:  6\n",
      "Complete month:  7\n",
      "Complete month:  8\n"
     ]
    }
   ],
   "source": [
    "\n",
    "# URL cơ sở được sử dụng trong tất cả các lệnh gọi API\n",
    "BASE_URL = 'https://history.openweathermap.org/data/2.5/history/city'\n",
    "\n",
    "AIP_ID = '626e8ec21c8de03a592d15a0f2dca7f9'\n",
    "# ID_HCM_city = '1566083'\n",
    "\n",
    "start_date_str = '2022-12-15'\n",
    "end_date_str = '2023-12-12'\n",
    "\n",
    "start_date = datetime.strptime(start_date_str, '%Y-%m-%d')\n",
    "end_date = datetime.strptime(end_date_str, '%Y-%m-%d')\n",
    "\n",
    "\n",
    "# In thông tin của một số dòng đầu tiên trong DataFrame\n",
    "df_weather_HCM_city = loadDataWeather(BASE_URL, ID_HCM_city, AIP_ID, start_date, end_date)\n",
    "df_weather_HCM_city.head()"
   ]
  },
  {
   "cell_type": "code",
   "execution_count": null,
   "id": "3290d91c-5de3-4f8a-a979-3d855e1ae3d1",
   "metadata": {},
   "outputs": [],
   "source": [
    "df_weather_HCM_city.info()"
   ]
  },
  {
   "cell_type": "code",
   "execution_count": null,
   "id": "420000c3-2802-466d-a482-c49284eef47b",
   "metadata": {},
   "outputs": [],
   "source": [
    "df_weather_HCM_city = df_weather_HCM_city.rename(columns={'dt': 'datetime', \n",
    "                                                            'main.temp': 'temp (K)',\n",
    "                                                            'main.feels_like': 'feels_like',\n",
    "                                                            'main.pressure': 'pressure',\n",
    "                                                            'main.humidity': 'humidity',\n",
    "                                                            'main.temp_min': 'temp_min',\n",
    "                                                            'main.temp_max': 'temp_max',\n",
    "                                                            'wind.speed': 'wind_speed',\n",
    "                                                            'wind.deg': 'wind_deg',\n",
    "                                                            'clouds.all': 'clouds_all',\n",
    "                                                            'id': 'id_weather',\n",
    "                                                            'main': 'main_weather',\n",
    "                                                            'description': 'description_weather',\n",
    "                                                            'icon': 'icon_weather',\n",
    "                                                            'rain.1h': 'rain_1h',\n",
    "                                                            'wind.gust': 'wind_gust',\n",
    "                                                           })"
   ]
  },
  {
   "cell_type": "markdown",
   "id": "e8e21418-3f55-4dbb-8db6-21b8a2ee88ba",
   "metadata": {},
   "source": [
    "- datetime: Timestamp of the weather data.\n",
    "- temp (K): Current temperature, measured in Kelvin.\n",
    "- feels_like: \"Feels like\" temperature, taking into account factors such as wind and humidity.\n",
    "- pressure: Atmospheric pressure.\n",
    "- humidity: Air humidity.\n",
    "- temp_min: Minimum temperature during the measurement period.\n",
    "- temp_max: Maximum temperature during the measurement period.\n",
    "- wind_speed: Wind speed.\n",
    "- wind_deg: Wind direction, measured in degrees.\n",
    "- clouds_all: Percentage of cloud coverage.\n",
    "- id_weather: Unique identifier code for weather conditions.\n",
    "- main_weather: Main weather condition (e.g., rain, clear sky).\n",
    "- description_weather: Detailed description of weather conditions.\n",
    "- icon_weather: Icon representing the weather condition.\n",
    "- rain_1h: Amount of rainfall in the last 1 hour.\n",
    "- wind_gust: Wind gust intensity.\n"
   ]
  },
  {
   "cell_type": "code",
   "execution_count": null,
   "id": "f2a8796b-878e-4868-9a2b-f0983f39ec51",
   "metadata": {},
   "outputs": [],
   "source": [
    "df_weather_HCM_city.head()"
   ]
  },
  {
   "cell_type": "code",
   "execution_count": null,
   "id": "0018671b-9820-4f9a-9a9c-8ef948387fce",
   "metadata": {},
   "outputs": [],
   "source": [
    "\n",
    "df_weather_HCM_city.to_csv(\"../data/crawl/raw_data.csv\",sep = ',', encoding= 'utf-8', index=False) "
   ]
  },
  {
   "cell_type": "code",
   "execution_count": null,
   "id": "fdc5bc63-d9f5-46ae-a038-1ddff78af261",
   "metadata": {},
   "outputs": [],
   "source": []
  }
 ],
 "metadata": {
  "kernelspec": {
   "display_name": "Python 3 (ipykernel)",
   "language": "python",
   "name": "python3"
  },
  "language_info": {
   "codemirror_mode": {
    "name": "ipython",
    "version": 3
   },
   "file_extension": ".py",
   "mimetype": "text/x-python",
   "name": "python",
   "nbconvert_exporter": "python",
   "pygments_lexer": "ipython3",
   "version": "3.9.18"
  }
 },
 "nbformat": 4,
 "nbformat_minor": 5
}
