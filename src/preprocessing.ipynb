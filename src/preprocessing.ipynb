{
 "cells": [
  {
   "cell_type": "markdown",
   "metadata": {},
   "source": [
    "## Import"
   ]
  },
  {
   "cell_type": "code",
   "execution_count": 486,
   "metadata": {
    "ExecuteTime": {
     "end_time": "2023-12-08T16:43:09.647915500Z",
     "start_time": "2023-12-08T16:43:09.592097Z"
    }
   },
   "outputs": [],
   "source": [
    "import os\n",
    "import sys\n",
    "\n",
    "module_path = os.path.abspath(os.path.join('..'))\n",
    "if module_path not in sys.path:\n",
    "    sys.path.append(module_path)\n",
    "\n",
    "import pandas as pd\n",
    "import matplotlib.pyplot as plt\n",
    "import seaborn as sns"
   ]
  },
  {
   "cell_type": "markdown",
   "metadata": {},
   "source": [
    "## Exploring your data"
   ]
  },
  {
   "cell_type": "markdown",
   "metadata": {},
   "source": [
    "### Read raw data from file"
   ]
  },
  {
   "cell_type": "code",
   "execution_count": 487,
   "metadata": {
    "ExecuteTime": {
     "end_time": "2023-12-08T16:43:09.748965800Z",
     "start_time": "2023-12-08T16:43:09.599073600Z"
    }
   },
   "outputs": [
    {
     "data": {
      "text/html": [
       "<div>\n",
       "<style scoped>\n",
       "    .dataframe tbody tr th:only-of-type {\n",
       "        vertical-align: middle;\n",
       "    }\n",
       "\n",
       "    .dataframe tbody tr th {\n",
       "        vertical-align: top;\n",
       "    }\n",
       "\n",
       "    .dataframe thead th {\n",
       "        text-align: right;\n",
       "    }\n",
       "</style>\n",
       "<table border=\"1\" class=\"dataframe\">\n",
       "  <thead>\n",
       "    <tr style=\"text-align: right;\">\n",
       "      <th></th>\n",
       "      <th>datetime</th>\n",
       "      <th>temp (K)</th>\n",
       "      <th>feels_like</th>\n",
       "      <th>pressure</th>\n",
       "      <th>humidity</th>\n",
       "      <th>temp_min</th>\n",
       "      <th>temp_max</th>\n",
       "      <th>wind_speed</th>\n",
       "      <th>wind_deg</th>\n",
       "      <th>clouds_all</th>\n",
       "      <th>id_weatrher</th>\n",
       "      <th>main_weatrher</th>\n",
       "      <th>description_weatrher</th>\n",
       "      <th>icon_weatrher</th>\n",
       "      <th>rain_1h</th>\n",
       "      <th>wind_gust</th>\n",
       "    </tr>\n",
       "  </thead>\n",
       "  <tbody>\n",
       "    <tr>\n",
       "      <th>0</th>\n",
       "      <td>1.670605e+09</td>\n",
       "      <td>299.16</td>\n",
       "      <td>299.16</td>\n",
       "      <td>1010.0</td>\n",
       "      <td>94.0</td>\n",
       "      <td>299.16</td>\n",
       "      <td>299.16</td>\n",
       "      <td>1.03</td>\n",
       "      <td>0.0</td>\n",
       "      <td>40.0</td>\n",
       "      <td>802.0</td>\n",
       "      <td>Clouds</td>\n",
       "      <td>scattered clouds</td>\n",
       "      <td>03n</td>\n",
       "      <td>NaN</td>\n",
       "      <td>NaN</td>\n",
       "    </tr>\n",
       "    <tr>\n",
       "      <th>1</th>\n",
       "      <td>1.670609e+09</td>\n",
       "      <td>299.16</td>\n",
       "      <td>299.16</td>\n",
       "      <td>1009.0</td>\n",
       "      <td>94.0</td>\n",
       "      <td>299.16</td>\n",
       "      <td>299.16</td>\n",
       "      <td>1.03</td>\n",
       "      <td>0.0</td>\n",
       "      <td>40.0</td>\n",
       "      <td>802.0</td>\n",
       "      <td>Clouds</td>\n",
       "      <td>scattered clouds</td>\n",
       "      <td>03n</td>\n",
       "      <td>NaN</td>\n",
       "      <td>NaN</td>\n",
       "    </tr>\n",
       "    <tr>\n",
       "      <th>2</th>\n",
       "      <td>1.670612e+09</td>\n",
       "      <td>298.16</td>\n",
       "      <td>299.33</td>\n",
       "      <td>1009.0</td>\n",
       "      <td>100.0</td>\n",
       "      <td>298.16</td>\n",
       "      <td>298.16</td>\n",
       "      <td>1.03</td>\n",
       "      <td>0.0</td>\n",
       "      <td>40.0</td>\n",
       "      <td>802.0</td>\n",
       "      <td>Clouds</td>\n",
       "      <td>scattered clouds</td>\n",
       "      <td>03n</td>\n",
       "      <td>NaN</td>\n",
       "      <td>NaN</td>\n",
       "    </tr>\n",
       "    <tr>\n",
       "      <th>3</th>\n",
       "      <td>1.670616e+09</td>\n",
       "      <td>298.16</td>\n",
       "      <td>298.88</td>\n",
       "      <td>1008.0</td>\n",
       "      <td>83.0</td>\n",
       "      <td>298.16</td>\n",
       "      <td>298.16</td>\n",
       "      <td>1.03</td>\n",
       "      <td>20.0</td>\n",
       "      <td>40.0</td>\n",
       "      <td>802.0</td>\n",
       "      <td>Clouds</td>\n",
       "      <td>scattered clouds</td>\n",
       "      <td>03n</td>\n",
       "      <td>NaN</td>\n",
       "      <td>NaN</td>\n",
       "    </tr>\n",
       "    <tr>\n",
       "      <th>4</th>\n",
       "      <td>1.670620e+09</td>\n",
       "      <td>298.16</td>\n",
       "      <td>298.88</td>\n",
       "      <td>1008.0</td>\n",
       "      <td>83.0</td>\n",
       "      <td>298.16</td>\n",
       "      <td>298.16</td>\n",
       "      <td>1.03</td>\n",
       "      <td>50.0</td>\n",
       "      <td>40.0</td>\n",
       "      <td>802.0</td>\n",
       "      <td>Clouds</td>\n",
       "      <td>scattered clouds</td>\n",
       "      <td>03n</td>\n",
       "      <td>NaN</td>\n",
       "      <td>NaN</td>\n",
       "    </tr>\n",
       "  </tbody>\n",
       "</table>\n",
       "</div>"
      ],
      "text/plain": [
       "       datetime  temp (K)  feels_like  pressure  humidity  temp_min  temp_max  \\\n",
       "0  1.670605e+09    299.16      299.16    1010.0      94.0    299.16    299.16   \n",
       "1  1.670609e+09    299.16      299.16    1009.0      94.0    299.16    299.16   \n",
       "2  1.670612e+09    298.16      299.33    1009.0     100.0    298.16    298.16   \n",
       "3  1.670616e+09    298.16      298.88    1008.0      83.0    298.16    298.16   \n",
       "4  1.670620e+09    298.16      298.88    1008.0      83.0    298.16    298.16   \n",
       "\n",
       "   wind_speed  wind_deg  clouds_all  id_weatrher main_weatrher  \\\n",
       "0        1.03       0.0        40.0        802.0        Clouds   \n",
       "1        1.03       0.0        40.0        802.0        Clouds   \n",
       "2        1.03       0.0        40.0        802.0        Clouds   \n",
       "3        1.03      20.0        40.0        802.0        Clouds   \n",
       "4        1.03      50.0        40.0        802.0        Clouds   \n",
       "\n",
       "  description_weatrher icon_weatrher  rain_1h  wind_gust  \n",
       "0     scattered clouds           03n      NaN        NaN  \n",
       "1     scattered clouds           03n      NaN        NaN  \n",
       "2     scattered clouds           03n      NaN        NaN  \n",
       "3     scattered clouds           03n      NaN        NaN  \n",
       "4     scattered clouds           03n      NaN        NaN  "
      ]
     },
     "execution_count": 487,
     "metadata": {},
     "output_type": "execute_result"
    }
   ],
   "source": [
    "raw_df = pd.read_csv(\"../data/crawl/raw_data.csv\")\n",
    "raw_df.head()"
   ]
  },
  {
   "cell_type": "markdown",
   "metadata": {},
   "source": [
    "### Checking shape"
   ]
  },
  {
   "cell_type": "code",
   "execution_count": 488,
   "metadata": {
    "ExecuteTime": {
     "end_time": "2023-12-08T16:43:09.750958900Z",
     "start_time": "2023-12-08T16:43:09.629971Z"
    }
   },
   "outputs": [],
   "source": [
    "shape = raw_df.shape"
   ]
  },
  {
   "cell_type": "code",
   "execution_count": 489,
   "metadata": {
    "ExecuteTime": {
     "end_time": "2023-12-08T16:43:09.751955900Z",
     "start_time": "2023-12-08T16:43:09.644920200Z"
    }
   },
   "outputs": [
    {
     "name": "stdout",
     "output_type": "stream",
     "text": [
      "Shape: (9720, 16)\n",
      "Data is qualified.\n"
     ]
    }
   ],
   "source": [
    "print(f\"Shape: {shape}\")\n",
    "\n",
    "if shape[0] > 1000:\n",
    "    print(f\"Data is qualified.\")\n",
    "else:\n",
    "    print(f\"Data isn't qualified\")"
   ]
  },
  {
   "cell_type": "markdown",
   "metadata": {},
   "source": [
    "### Dealing with duplicates"
   ]
  },
  {
   "cell_type": "code",
   "execution_count": 490,
   "metadata": {
    "ExecuteTime": {
     "end_time": "2023-12-08T16:43:09.751955900Z",
     "start_time": "2023-12-08T16:43:09.661745Z"
    }
   },
   "outputs": [],
   "source": [
    "index = raw_df.index\n",
    "detectDupSeries = index.duplicated(keep='first')\n",
    "num_duplicated_rows = detectDupSeries.sum()"
   ]
  },
  {
   "cell_type": "code",
   "execution_count": 491,
   "metadata": {
    "ExecuteTime": {
     "end_time": "2023-12-08T16:43:09.751955900Z",
     "start_time": "2023-12-08T16:43:09.675698500Z"
    }
   },
   "outputs": [
    {
     "name": "stdout",
     "output_type": "stream",
     "text": [
      "No duplicated line.\n"
     ]
    }
   ],
   "source": [
    "if num_duplicated_rows == 0:\n",
    "    print(f\"No duplicated line.\")\n",
    "else:\n",
    "    if num_duplicated_rows > 1:\n",
    "        ext = \"lines\"\n",
    "    else:\n",
    "        ext = \"line\"\n",
    "    print(f\"{num_duplicated_rows} duplicated \" + ext + \". De-deduplicating the raw data.\")"
   ]
  },
  {
   "cell_type": "code",
   "execution_count": 492,
   "metadata": {
    "ExecuteTime": {
     "end_time": "2023-12-08T16:43:09.751955900Z",
     "start_time": "2023-12-08T16:43:09.691159500Z"
    }
   },
   "outputs": [],
   "source": [
    "# De-deduplicate\n",
    "raw_df = raw_df[~detectDupSeries]\n",
    "post_deduplication_count = raw_df.index.duplicated(keep='first').sum()\n",
    "assert post_deduplication_count == 0, \"Still have duplicated rows after de-duplication.\""
   ]
  },
  {
   "cell_type": "code",
   "execution_count": 493,
   "metadata": {
    "ExecuteTime": {
     "end_time": "2023-12-08T16:43:09.751955900Z",
     "start_time": "2023-12-08T16:43:09.709099100Z"
    },
    "collapsed": false,
    "jupyter": {
     "outputs_hidden": false
    }
   },
   "outputs": [
    {
     "data": {
      "text/plain": [
       "(datetime               1008\n",
       " temp (K)               1008\n",
       " feels_like             1008\n",
       " pressure               1008\n",
       " humidity               1008\n",
       " temp_min               1008\n",
       " temp_max               1008\n",
       " wind_speed             1008\n",
       " wind_deg               1008\n",
       " clouds_all             1008\n",
       " id_weather              945\n",
       " main_weather            945\n",
       " description_weather     945\n",
       " icon_weather            945\n",
       " rain_1h                8794\n",
       " wind_gust              9605\n",
       " dtype: int64,\n",
       " datetime               datetime64[ns]\n",
       " temp (K)                      float64\n",
       " feels_like                    float64\n",
       " pressure                      float64\n",
       " humidity                      float64\n",
       " temp_min                      float64\n",
       " temp_max                      float64\n",
       " wind_speed                    float64\n",
       " wind_deg                      float64\n",
       " clouds_all                    float64\n",
       " id_weather                    float64\n",
       " main_weather                   object\n",
       " description_weather            object\n",
       " icon_weather                   object\n",
       " rain_1h                       float64\n",
       " wind_gust                     float64\n",
       " dtype: object)"
      ]
     },
     "execution_count": 493,
     "metadata": {},
     "output_type": "execute_result"
    }
   ],
   "source": [
    "# Converting 'datetime' from Unix timestamp to readable datetime format\n",
    "raw_df['datetime'] = pd.to_datetime(raw_df['datetime'], unit='s')\n",
    "\n",
    "# Renaming columns\n",
    "raw_df = raw_df.rename(columns={\n",
    "    'id_weatrher': 'id_weather',\n",
    "    'main_weatrher': 'main_weather',\n",
    "    'description_weatrher': 'description_weather',\n",
    "    'icon_weatrher': 'icon_weather'\n",
    "})\n",
    "\n",
    "missing_values = raw_df.isnull().sum()\n",
    "\n",
    "data_types = raw_df.dtypes\n",
    "\n",
    "missing_values, data_types"
   ]
  },
  {
   "cell_type": "markdown",
   "metadata": {
    "collapsed": false,
    "jupyter": {
     "outputs_hidden": false
    }
   },
   "source": [
    "### Checking distribution"
   ]
  },
  {
   "cell_type": "markdown",
   "metadata": {},
   "source": [
    "For columns with numeric data types:\n",
    "- Percentage (from 0 to 100) of missing values\n",
    "- The min\n",
    "- The lower quartile (phân vị 25)\n",
    "- The median (phân vị 50)\n",
    "- The upper quartile (phân vị 75)\n",
    "- The max\n",
    "\n",
    "For viewing, using `.round(1)`."
   ]
  },
  {
   "cell_type": "code",
   "execution_count": 494,
   "metadata": {
    "ExecuteTime": {
     "end_time": "2023-12-08T16:43:09.752952600Z",
     "start_time": "2023-12-08T16:43:09.725045600Z"
    }
   },
   "outputs": [],
   "source": [
    "def numeric_column_info(df: pd.DataFrame) -> pd.DataFrame:\n",
    "    numeric_columns = df.select_dtypes(include=['float64', 'int64']).columns\n",
    "\n",
    "    num_col_info = {}\n",
    "    for col in numeric_columns:\n",
    "        num_col_info[col] = [\n",
    "            df[col].isnull().mean() * 100,  # Missing ratio\n",
    "            df[col].min(),                  # Min\n",
    "            df[col].quantile(0.25),         # Lower quartile\n",
    "            df[col].median(),               # Median\n",
    "            df[col].quantile(0.75),         # Upper quartile\n",
    "            df[col].max()                   # Max\n",
    "        ]\n",
    "\n",
    "    # Creating the DataFrame\n",
    "    num_col_info_df = pd.DataFrame(num_col_info, index=[\"missing_ratio\", \"min\", \"lower_quartile\", \"median\", \"upper_quartile\", \"max\"])\n",
    "\n",
    "    # Rounding values to 1 decimal place\n",
    "    num_col_info_df = num_col_info_df.round(1)\n",
    "\n",
    "    return num_col_info_df"
   ]
  },
  {
   "cell_type": "code",
   "execution_count": 495,
   "metadata": {
    "ExecuteTime": {
     "end_time": "2023-12-08T16:43:09.814260600Z",
     "start_time": "2023-12-08T16:43:09.740992500Z"
    },
    "collapsed": false,
    "jupyter": {
     "outputs_hidden": false
    }
   },
   "outputs": [
    {
     "data": {
      "text/html": [
       "<div>\n",
       "<style scoped>\n",
       "    .dataframe tbody tr th:only-of-type {\n",
       "        vertical-align: middle;\n",
       "    }\n",
       "\n",
       "    .dataframe tbody tr th {\n",
       "        vertical-align: top;\n",
       "    }\n",
       "\n",
       "    .dataframe thead th {\n",
       "        text-align: right;\n",
       "    }\n",
       "</style>\n",
       "<table border=\"1\" class=\"dataframe\">\n",
       "  <thead>\n",
       "    <tr style=\"text-align: right;\">\n",
       "      <th></th>\n",
       "      <th>temp (K)</th>\n",
       "      <th>feels_like</th>\n",
       "      <th>pressure</th>\n",
       "      <th>humidity</th>\n",
       "      <th>temp_min</th>\n",
       "      <th>temp_max</th>\n",
       "      <th>wind_speed</th>\n",
       "      <th>wind_deg</th>\n",
       "      <th>clouds_all</th>\n",
       "      <th>id_weather</th>\n",
       "      <th>rain_1h</th>\n",
       "      <th>wind_gust</th>\n",
       "    </tr>\n",
       "  </thead>\n",
       "  <tbody>\n",
       "    <tr>\n",
       "      <th>missing_ratio</th>\n",
       "      <td>10.4</td>\n",
       "      <td>10.4</td>\n",
       "      <td>10.4</td>\n",
       "      <td>10.4</td>\n",
       "      <td>10.4</td>\n",
       "      <td>10.4</td>\n",
       "      <td>10.4</td>\n",
       "      <td>10.4</td>\n",
       "      <td>10.4</td>\n",
       "      <td>9.7</td>\n",
       "      <td>90.5</td>\n",
       "      <td>98.8</td>\n",
       "    </tr>\n",
       "    <tr>\n",
       "      <th>min</th>\n",
       "      <td>292.2</td>\n",
       "      <td>292.4</td>\n",
       "      <td>1001.0</td>\n",
       "      <td>14.0</td>\n",
       "      <td>292.2</td>\n",
       "      <td>292.2</td>\n",
       "      <td>0.0</td>\n",
       "      <td>0.0</td>\n",
       "      <td>0.0</td>\n",
       "      <td>200.0</td>\n",
       "      <td>0.1</td>\n",
       "      <td>1.9</td>\n",
       "    </tr>\n",
       "    <tr>\n",
       "      <th>lower_quartile</th>\n",
       "      <td>299.2</td>\n",
       "      <td>299.3</td>\n",
       "      <td>1008.0</td>\n",
       "      <td>69.0</td>\n",
       "      <td>299.2</td>\n",
       "      <td>299.2</td>\n",
       "      <td>1.5</td>\n",
       "      <td>10.0</td>\n",
       "      <td>40.0</td>\n",
       "      <td>801.0</td>\n",
       "      <td>0.2</td>\n",
       "      <td>5.3</td>\n",
       "    </tr>\n",
       "    <tr>\n",
       "      <th>median</th>\n",
       "      <td>301.2</td>\n",
       "      <td>305.8</td>\n",
       "      <td>1010.0</td>\n",
       "      <td>84.0</td>\n",
       "      <td>301.2</td>\n",
       "      <td>301.2</td>\n",
       "      <td>2.6</td>\n",
       "      <td>160.0</td>\n",
       "      <td>40.0</td>\n",
       "      <td>802.0</td>\n",
       "      <td>0.8</td>\n",
       "      <td>9.8</td>\n",
       "    </tr>\n",
       "    <tr>\n",
       "      <th>upper_quartile</th>\n",
       "      <td>304.2</td>\n",
       "      <td>309.6</td>\n",
       "      <td>1011.0</td>\n",
       "      <td>94.0</td>\n",
       "      <td>304.2</td>\n",
       "      <td>304.2</td>\n",
       "      <td>4.1</td>\n",
       "      <td>250.0</td>\n",
       "      <td>75.0</td>\n",
       "      <td>802.0</td>\n",
       "      <td>2.2</td>\n",
       "      <td>12.9</td>\n",
       "    </tr>\n",
       "    <tr>\n",
       "      <th>max</th>\n",
       "      <td>311.2</td>\n",
       "      <td>317.2</td>\n",
       "      <td>1018.0</td>\n",
       "      <td>100.0</td>\n",
       "      <td>311.2</td>\n",
       "      <td>311.2</td>\n",
       "      <td>11.3</td>\n",
       "      <td>360.0</td>\n",
       "      <td>100.0</td>\n",
       "      <td>804.0</td>\n",
       "      <td>36.5</td>\n",
       "      <td>20.6</td>\n",
       "    </tr>\n",
       "  </tbody>\n",
       "</table>\n",
       "</div>"
      ],
      "text/plain": [
       "                temp (K)  feels_like  pressure  humidity  temp_min  temp_max  \\\n",
       "missing_ratio       10.4        10.4      10.4      10.4      10.4      10.4   \n",
       "min                292.2       292.4    1001.0      14.0     292.2     292.2   \n",
       "lower_quartile     299.2       299.3    1008.0      69.0     299.2     299.2   \n",
       "median             301.2       305.8    1010.0      84.0     301.2     301.2   \n",
       "upper_quartile     304.2       309.6    1011.0      94.0     304.2     304.2   \n",
       "max                311.2       317.2    1018.0     100.0     311.2     311.2   \n",
       "\n",
       "                wind_speed  wind_deg  clouds_all  id_weather  rain_1h  \\\n",
       "missing_ratio         10.4      10.4        10.4         9.7     90.5   \n",
       "min                    0.0       0.0         0.0       200.0      0.1   \n",
       "lower_quartile         1.5      10.0        40.0       801.0      0.2   \n",
       "median                 2.6     160.0        40.0       802.0      0.8   \n",
       "upper_quartile         4.1     250.0        75.0       802.0      2.2   \n",
       "max                   11.3     360.0       100.0       804.0     36.5   \n",
       "\n",
       "                wind_gust  \n",
       "missing_ratio        98.8  \n",
       "min                   1.9  \n",
       "lower_quartile        5.3  \n",
       "median                9.8  \n",
       "upper_quartile       12.9  \n",
       "max                  20.6  "
      ]
     },
     "execution_count": 495,
     "metadata": {},
     "output_type": "execute_result"
    }
   ],
   "source": [
    "num_col_info_df = numeric_column_info(raw_df)\n",
    "\n",
    "num_col_info_df"
   ]
  },
  {
   "cell_type": "code",
   "execution_count": 497,
   "metadata": {
    "ExecuteTime": {
     "end_time": "2023-12-08T16:43:10.133701100Z",
     "start_time": "2023-12-08T16:43:10.002139500Z"
    }
   },
   "outputs": [
    {
     "data": {
      "text/plain": [
       "{'temp (K)': 10.4,\n",
       " 'feels_like': 10.4,\n",
       " 'pressure': 10.4,\n",
       " 'humidity': 10.4,\n",
       " 'temp_min': 10.4,\n",
       " 'temp_max': 10.4,\n",
       " 'wind_speed': 10.4,\n",
       " 'wind_deg': 10.4,\n",
       " 'clouds_all': 10.4,\n",
       " 'id_weather': 9.7,\n",
       " 'rain_1h': 90.5,\n",
       " 'wind_gust': 98.8}"
      ]
     },
     "execution_count": 497,
     "metadata": {},
     "output_type": "execute_result"
    }
   ],
   "source": [
    "dict(num_col_info_df.iloc[0])"
   ]
  },
  {
   "cell_type": "code",
   "execution_count": 498,
   "metadata": {
    "ExecuteTime": {
     "end_time": "2023-12-08T16:43:10.135692900Z",
     "start_time": "2023-12-08T16:43:10.018086500Z"
    }
   },
   "outputs": [],
   "source": [
    "def drop_missing_features(df: pd.DataFrame, missing_lst=None, threshold: float = 75.0) -> pd.DataFrame:\n",
    "\n",
    "    if (df is None) or (missing_lst is None) or (threshold is None):\n",
    "        print(f\"Invalid.\")\n",
    "        raise ValueError\n",
    "    \n",
    "    df_cp = df.copy()\n",
    "    \n",
    "    cols_to_trim = []\n",
    "    \n",
    "    for key, value in missing_lst.items():\n",
    "        if float(value) > threshold:\n",
    "            cols_to_trim.append(key)\n",
    "            \n",
    "    if len(cols_to_trim) > 0:\n",
    "        df_cp = df_cp.drop(columns=cols_to_trim)\n",
    "        print(\"Dropped column(s): \" + \" \".join(cols_to_trim))\n",
    "    else:\n",
    "        print(\"Have no column(s) to trim.\")\n",
    "        \n",
    "    return df_cp"
   ]
  },
  {
   "cell_type": "code",
   "execution_count": 499,
   "metadata": {
    "ExecuteTime": {
     "end_time": "2023-12-08T16:43:10.136691700Z",
     "start_time": "2023-12-08T16:43:10.033036100Z"
    }
   },
   "outputs": [
    {
     "name": "stdout",
     "output_type": "stream",
     "text": [
      "Dropped column(s): rain_1h wind_gust\n"
     ]
    }
   ],
   "source": [
    "raw_df = drop_missing_features(raw_df, dict(num_col_info_df.iloc[0]))\n",
    "# Drop columns with no dates\n",
    "raw_df.dropna(subset=['datetime'], inplace=True)"
   ]
  },
  {
   "cell_type": "code",
   "execution_count": 500,
   "metadata": {
    "ExecuteTime": {
     "end_time": "2023-12-08T16:43:10.137691800Z",
     "start_time": "2023-12-08T16:43:10.050976200Z"
    }
   },
   "outputs": [
    {
     "data": {
      "text/html": [
       "<div>\n",
       "<style scoped>\n",
       "    .dataframe tbody tr th:only-of-type {\n",
       "        vertical-align: middle;\n",
       "    }\n",
       "\n",
       "    .dataframe tbody tr th {\n",
       "        vertical-align: top;\n",
       "    }\n",
       "\n",
       "    .dataframe thead th {\n",
       "        text-align: right;\n",
       "    }\n",
       "</style>\n",
       "<table border=\"1\" class=\"dataframe\">\n",
       "  <thead>\n",
       "    <tr style=\"text-align: right;\">\n",
       "      <th></th>\n",
       "      <th>datetime</th>\n",
       "      <th>temp (K)</th>\n",
       "      <th>feels_like</th>\n",
       "      <th>pressure</th>\n",
       "      <th>humidity</th>\n",
       "      <th>temp_min</th>\n",
       "      <th>temp_max</th>\n",
       "      <th>wind_speed</th>\n",
       "      <th>wind_deg</th>\n",
       "      <th>clouds_all</th>\n",
       "      <th>id_weather</th>\n",
       "      <th>main_weather</th>\n",
       "      <th>description_weather</th>\n",
       "      <th>icon_weather</th>\n",
       "    </tr>\n",
       "  </thead>\n",
       "  <tbody>\n",
       "    <tr>\n",
       "      <th>0</th>\n",
       "      <td>2022-12-09 17:00:00</td>\n",
       "      <td>299.16</td>\n",
       "      <td>299.16</td>\n",
       "      <td>1010.0</td>\n",
       "      <td>94.0</td>\n",
       "      <td>299.16</td>\n",
       "      <td>299.16</td>\n",
       "      <td>1.03</td>\n",
       "      <td>0.0</td>\n",
       "      <td>40.0</td>\n",
       "      <td>802.0</td>\n",
       "      <td>Clouds</td>\n",
       "      <td>scattered clouds</td>\n",
       "      <td>03n</td>\n",
       "    </tr>\n",
       "    <tr>\n",
       "      <th>1</th>\n",
       "      <td>2022-12-09 18:00:00</td>\n",
       "      <td>299.16</td>\n",
       "      <td>299.16</td>\n",
       "      <td>1009.0</td>\n",
       "      <td>94.0</td>\n",
       "      <td>299.16</td>\n",
       "      <td>299.16</td>\n",
       "      <td>1.03</td>\n",
       "      <td>0.0</td>\n",
       "      <td>40.0</td>\n",
       "      <td>802.0</td>\n",
       "      <td>Clouds</td>\n",
       "      <td>scattered clouds</td>\n",
       "      <td>03n</td>\n",
       "    </tr>\n",
       "    <tr>\n",
       "      <th>2</th>\n",
       "      <td>2022-12-09 19:00:00</td>\n",
       "      <td>298.16</td>\n",
       "      <td>299.33</td>\n",
       "      <td>1009.0</td>\n",
       "      <td>100.0</td>\n",
       "      <td>298.16</td>\n",
       "      <td>298.16</td>\n",
       "      <td>1.03</td>\n",
       "      <td>0.0</td>\n",
       "      <td>40.0</td>\n",
       "      <td>802.0</td>\n",
       "      <td>Clouds</td>\n",
       "      <td>scattered clouds</td>\n",
       "      <td>03n</td>\n",
       "    </tr>\n",
       "    <tr>\n",
       "      <th>3</th>\n",
       "      <td>2022-12-09 20:00:00</td>\n",
       "      <td>298.16</td>\n",
       "      <td>298.88</td>\n",
       "      <td>1008.0</td>\n",
       "      <td>83.0</td>\n",
       "      <td>298.16</td>\n",
       "      <td>298.16</td>\n",
       "      <td>1.03</td>\n",
       "      <td>20.0</td>\n",
       "      <td>40.0</td>\n",
       "      <td>802.0</td>\n",
       "      <td>Clouds</td>\n",
       "      <td>scattered clouds</td>\n",
       "      <td>03n</td>\n",
       "    </tr>\n",
       "    <tr>\n",
       "      <th>4</th>\n",
       "      <td>2022-12-09 21:00:00</td>\n",
       "      <td>298.16</td>\n",
       "      <td>298.88</td>\n",
       "      <td>1008.0</td>\n",
       "      <td>83.0</td>\n",
       "      <td>298.16</td>\n",
       "      <td>298.16</td>\n",
       "      <td>1.03</td>\n",
       "      <td>50.0</td>\n",
       "      <td>40.0</td>\n",
       "      <td>802.0</td>\n",
       "      <td>Clouds</td>\n",
       "      <td>scattered clouds</td>\n",
       "      <td>03n</td>\n",
       "    </tr>\n",
       "  </tbody>\n",
       "</table>\n",
       "</div>"
      ],
      "text/plain": [
       "             datetime  temp (K)  feels_like  pressure  humidity  temp_min  \\\n",
       "0 2022-12-09 17:00:00    299.16      299.16    1010.0      94.0    299.16   \n",
       "1 2022-12-09 18:00:00    299.16      299.16    1009.0      94.0    299.16   \n",
       "2 2022-12-09 19:00:00    298.16      299.33    1009.0     100.0    298.16   \n",
       "3 2022-12-09 20:00:00    298.16      298.88    1008.0      83.0    298.16   \n",
       "4 2022-12-09 21:00:00    298.16      298.88    1008.0      83.0    298.16   \n",
       "\n",
       "   temp_max  wind_speed  wind_deg  clouds_all  id_weather main_weather  \\\n",
       "0    299.16        1.03       0.0        40.0       802.0       Clouds   \n",
       "1    299.16        1.03       0.0        40.0       802.0       Clouds   \n",
       "2    298.16        1.03       0.0        40.0       802.0       Clouds   \n",
       "3    298.16        1.03      20.0        40.0       802.0       Clouds   \n",
       "4    298.16        1.03      50.0        40.0       802.0       Clouds   \n",
       "\n",
       "  description_weather icon_weather  \n",
       "0    scattered clouds          03n  \n",
       "1    scattered clouds          03n  \n",
       "2    scattered clouds          03n  \n",
       "3    scattered clouds          03n  \n",
       "4    scattered clouds          03n  "
      ]
     },
     "execution_count": 500,
     "metadata": {},
     "output_type": "execute_result"
    }
   ],
   "source": [
    "raw_df.head()"
   ]
  },
  {
   "cell_type": "code",
   "execution_count": 501,
   "metadata": {
    "ExecuteTime": {
     "end_time": "2023-12-08T16:43:10.137691800Z",
     "start_time": "2023-12-08T16:43:10.080876200Z"
    }
   },
   "outputs": [
    {
     "data": {
      "text/html": [
       "<div>\n",
       "<style scoped>\n",
       "    .dataframe tbody tr th:only-of-type {\n",
       "        vertical-align: middle;\n",
       "    }\n",
       "\n",
       "    .dataframe tbody tr th {\n",
       "        vertical-align: top;\n",
       "    }\n",
       "\n",
       "    .dataframe thead th {\n",
       "        text-align: right;\n",
       "    }\n",
       "</style>\n",
       "<table border=\"1\" class=\"dataframe\">\n",
       "  <thead>\n",
       "    <tr style=\"text-align: right;\">\n",
       "      <th></th>\n",
       "      <th>temp (K)</th>\n",
       "      <th>feels_like</th>\n",
       "      <th>pressure</th>\n",
       "      <th>humidity</th>\n",
       "      <th>temp_min</th>\n",
       "      <th>temp_max</th>\n",
       "      <th>wind_speed</th>\n",
       "      <th>wind_deg</th>\n",
       "      <th>clouds_all</th>\n",
       "      <th>id_weather</th>\n",
       "    </tr>\n",
       "  </thead>\n",
       "  <tbody>\n",
       "    <tr>\n",
       "      <th>missing_ratio</th>\n",
       "      <td>0.0</td>\n",
       "      <td>0.0</td>\n",
       "      <td>0.0</td>\n",
       "      <td>0.0</td>\n",
       "      <td>0.0</td>\n",
       "      <td>0.0</td>\n",
       "      <td>0.0</td>\n",
       "      <td>0.0</td>\n",
       "      <td>0.0</td>\n",
       "      <td>0.0</td>\n",
       "    </tr>\n",
       "    <tr>\n",
       "      <th>min</th>\n",
       "      <td>292.2</td>\n",
       "      <td>292.4</td>\n",
       "      <td>1001.0</td>\n",
       "      <td>14.0</td>\n",
       "      <td>292.2</td>\n",
       "      <td>292.2</td>\n",
       "      <td>0.0</td>\n",
       "      <td>0.0</td>\n",
       "      <td>0.0</td>\n",
       "      <td>200.0</td>\n",
       "    </tr>\n",
       "    <tr>\n",
       "      <th>lower_quartile</th>\n",
       "      <td>299.2</td>\n",
       "      <td>299.3</td>\n",
       "      <td>1008.0</td>\n",
       "      <td>69.0</td>\n",
       "      <td>299.2</td>\n",
       "      <td>299.2</td>\n",
       "      <td>1.5</td>\n",
       "      <td>10.0</td>\n",
       "      <td>40.0</td>\n",
       "      <td>801.0</td>\n",
       "    </tr>\n",
       "    <tr>\n",
       "      <th>median</th>\n",
       "      <td>301.2</td>\n",
       "      <td>305.8</td>\n",
       "      <td>1010.0</td>\n",
       "      <td>84.0</td>\n",
       "      <td>301.2</td>\n",
       "      <td>301.2</td>\n",
       "      <td>2.6</td>\n",
       "      <td>160.0</td>\n",
       "      <td>40.0</td>\n",
       "      <td>802.0</td>\n",
       "    </tr>\n",
       "    <tr>\n",
       "      <th>upper_quartile</th>\n",
       "      <td>304.2</td>\n",
       "      <td>309.6</td>\n",
       "      <td>1011.0</td>\n",
       "      <td>94.0</td>\n",
       "      <td>304.2</td>\n",
       "      <td>304.2</td>\n",
       "      <td>4.1</td>\n",
       "      <td>250.0</td>\n",
       "      <td>75.0</td>\n",
       "      <td>802.0</td>\n",
       "    </tr>\n",
       "    <tr>\n",
       "      <th>max</th>\n",
       "      <td>311.2</td>\n",
       "      <td>317.2</td>\n",
       "      <td>1018.0</td>\n",
       "      <td>100.0</td>\n",
       "      <td>311.2</td>\n",
       "      <td>311.2</td>\n",
       "      <td>11.3</td>\n",
       "      <td>360.0</td>\n",
       "      <td>100.0</td>\n",
       "      <td>804.0</td>\n",
       "    </tr>\n",
       "  </tbody>\n",
       "</table>\n",
       "</div>"
      ],
      "text/plain": [
       "                temp (K)  feels_like  pressure  humidity  temp_min  temp_max  \\\n",
       "missing_ratio        0.0         0.0       0.0       0.0       0.0       0.0   \n",
       "min                292.2       292.4    1001.0      14.0     292.2     292.2   \n",
       "lower_quartile     299.2       299.3    1008.0      69.0     299.2     299.2   \n",
       "median             301.2       305.8    1010.0      84.0     301.2     301.2   \n",
       "upper_quartile     304.2       309.6    1011.0      94.0     304.2     304.2   \n",
       "max                311.2       317.2    1018.0     100.0     311.2     311.2   \n",
       "\n",
       "                wind_speed  wind_deg  clouds_all  id_weather  \n",
       "missing_ratio          0.0       0.0         0.0         0.0  \n",
       "min                    0.0       0.0         0.0       200.0  \n",
       "lower_quartile         1.5      10.0        40.0       801.0  \n",
       "median                 2.6     160.0        40.0       802.0  \n",
       "upper_quartile         4.1     250.0        75.0       802.0  \n",
       "max                   11.3     360.0       100.0       804.0  "
      ]
     },
     "execution_count": 501,
     "metadata": {},
     "output_type": "execute_result"
    }
   ],
   "source": [
    "num_col_info_df = numeric_column_info(raw_df)\n",
    "\n",
    "num_col_info_df"
   ]
  },
  {
   "cell_type": "markdown",
   "metadata": {
    "collapsed": false,
    "jupyter": {
     "outputs_hidden": false
    }
   },
   "source": [
    "Skipping filling because there is no missing cells."
   ]
  },
  {
   "cell_type": "markdown",
   "metadata": {},
   "source": [
    "For columns with non-numeric data types:\n",
    "- Percentage (from 0 to 100) of missing values\n",
    "- Number of values (the values here are different values and we do not consider missing values)\n",
    "- The percentage (from 0 to 100) of each value is sorted by decreasing percentage (we do not consider missing values, the ratio is the ratio compared to the number of non-missing values)"
   ]
  },
  {
   "cell_type": "code",
   "execution_count": 502,
   "metadata": {
    "ExecuteTime": {
     "end_time": "2023-12-08T16:43:10.177553100Z",
     "start_time": "2023-12-08T16:43:10.111772900Z"
    }
   },
   "outputs": [
    {
     "data": {
      "text/html": [
       "<div>\n",
       "<style scoped>\n",
       "    .dataframe tbody tr th:only-of-type {\n",
       "        vertical-align: middle;\n",
       "    }\n",
       "\n",
       "    .dataframe tbody tr th {\n",
       "        vertical-align: top;\n",
       "    }\n",
       "\n",
       "    .dataframe thead th {\n",
       "        text-align: right;\n",
       "    }\n",
       "</style>\n",
       "<table border=\"1\" class=\"dataframe\">\n",
       "  <thead>\n",
       "    <tr style=\"text-align: right;\">\n",
       "      <th></th>\n",
       "      <th>datetime</th>\n",
       "      <th>main_weather</th>\n",
       "      <th>description_weather</th>\n",
       "      <th>icon_weather</th>\n",
       "    </tr>\n",
       "  </thead>\n",
       "  <tbody>\n",
       "    <tr>\n",
       "      <th>missing_ratio</th>\n",
       "      <td>0.0</td>\n",
       "      <td>0.0</td>\n",
       "      <td>0.0</td>\n",
       "      <td>0.0</td>\n",
       "    </tr>\n",
       "    <tr>\n",
       "      <th>num_values</th>\n",
       "      <td>8712</td>\n",
       "      <td>7</td>\n",
       "      <td>19</td>\n",
       "      <td>16</td>\n",
       "    </tr>\n",
       "    <tr>\n",
       "      <th>value_ratios</th>\n",
       "      <td>{2022-12-09 17:00:00: 0.01147842056932966, 2023-08-08 19:00:00: 0.01147842056932966, 2023-08-08 ...</td>\n",
       "      <td>{'Clouds': 85.43388429752066, 'Rain': 9.77961432506887, 'Clear': 2.9843893480257115, 'Mist': 1.2...</td>\n",
       "      <td>{'scattered clouds': 41.976584022038566, 'broken clouds': 21.556473829201103, 'few clouds': 21.0...</td>\n",
       "      <td>{'03n': 22.302571166207528, '03d': 19.674012855831037, '04d': 15.495867768595042, '02n': 12.3048...</td>\n",
       "    </tr>\n",
       "  </tbody>\n",
       "</table>\n",
       "</div>"
      ],
      "text/plain": [
       "                                                                                                          datetime  \\\n",
       "missing_ratio                                                                                                  0.0   \n",
       "num_values                                                                                                    8712   \n",
       "value_ratios   {2022-12-09 17:00:00: 0.01147842056932966, 2023-08-08 19:00:00: 0.01147842056932966, 2023-08-08 ...   \n",
       "\n",
       "                                                                                                      main_weather  \\\n",
       "missing_ratio                                                                                                  0.0   \n",
       "num_values                                                                                                       7   \n",
       "value_ratios   {'Clouds': 85.43388429752066, 'Rain': 9.77961432506887, 'Clear': 2.9843893480257115, 'Mist': 1.2...   \n",
       "\n",
       "                                                                                               description_weather  \\\n",
       "missing_ratio                                                                                                  0.0   \n",
       "num_values                                                                                                      19   \n",
       "value_ratios   {'scattered clouds': 41.976584022038566, 'broken clouds': 21.556473829201103, 'few clouds': 21.0...   \n",
       "\n",
       "                                                                                                      icon_weather  \n",
       "missing_ratio                                                                                                  0.0  \n",
       "num_values                                                                                                      16  \n",
       "value_ratios   {'03n': 22.302571166207528, '03d': 19.674012855831037, '04d': 15.495867768595042, '02n': 12.3048...  "
      ]
     },
     "execution_count": 502,
     "metadata": {},
     "output_type": "execute_result"
    }
   ],
   "source": [
    "non_numeric_columns = raw_df.select_dtypes(exclude=['float64']).columns\n",
    "\n",
    "cat_col_info = {}\n",
    "for col in non_numeric_columns:\n",
    "    missing_ratio = raw_df[col].isnull().mean() * 100\n",
    "\n",
    "    num_values = raw_df[col].nunique()\n",
    "\n",
    "    value_counts = raw_df[col].value_counts(normalize=True) * 100\n",
    "    value_ratios = value_counts.to_dict()\n",
    "\n",
    "    cat_col_info[col] = [missing_ratio, num_values, value_ratios]\n",
    "\n",
    "cat_col_info_df = pd.DataFrame(cat_col_info, index=[\"missing_ratio\", \"num_values\", \"value_ratios\"])\n",
    "\n",
    "cat_col_info_df.loc['missing_ratio'] = cat_col_info_df.loc['missing_ratio'].apply(lambda x: round(x, 1) if isinstance(x, float) else x)\n",
    "\n",
    "cat_col_info_df"
   ]
  },
  {
   "cell_type": "markdown",
   "metadata": {},
   "source": [
    "### Is the collected data reasonable?"
   ]
  },
  {
   "cell_type": "code",
   "execution_count": 503,
   "metadata": {
    "ExecuteTime": {
     "end_time": "2023-12-08T16:43:10.230377900Z",
     "start_time": "2023-12-08T16:43:10.162603500Z"
    }
   },
   "outputs": [
    {
     "data": {
      "text/plain": [
       "{'Temperature (0K-350K)': True,\n",
       " 'Pressure (300hPa-1100hPa)': True,\n",
       " 'Humidity (0%-100%)': True,\n",
       " 'Wind Speed (>=0 m/s)': True,\n",
       " 'Wind Degree (0°-360°)': True,\n",
       " 'Cloudiness (0%-100%)': True}"
      ]
     },
     "execution_count": 503,
     "metadata": {},
     "output_type": "execute_result"
    }
   ],
   "source": [
    "# Range and Value Checks for Numeric Columns\n",
    "# Example ranges:\n",
    "# Temperature in Kelvin (0K is absolute zero, upper limit is less defined but should be reasonable)\n",
    "# Atmospheric pressure in hPa (typical range: 300 to 1100)\n",
    "# Humidity in % (0 to 100)\n",
    "# Wind speed in m/s (no upper limit, but excessively high values may be suspect)\n",
    "# Wind degree (0 to 360)\n",
    "# Cloudiness in % (0 to 100)\n",
    "\n",
    "temp_range_check = raw_df['temp (K)'].between(0, 350).all()\n",
    "pressure_range_check = raw_df['pressure'].between(300, 1100).all()\n",
    "humidity_range_check = raw_df['humidity'].between(0, 100).all()\n",
    "wind_speed_range_check = raw_df['wind_speed'] >= 0\n",
    "wind_deg_range_check = raw_df['wind_deg'].between(0, 360).all()\n",
    "clouds_all_range_check = raw_df['clouds_all'].between(0, 100).all()\n",
    "\n",
    "# Results\n",
    "range_check_results = {\n",
    "    'Temperature (0K-350K)': temp_range_check,\n",
    "    'Pressure (300hPa-1100hPa)': pressure_range_check,\n",
    "    'Humidity (0%-100%)': humidity_range_check,\n",
    "    'Wind Speed (>=0 m/s)': wind_speed_range_check.all(),\n",
    "    'Wind Degree (0°-360°)': wind_deg_range_check,\n",
    "    'Cloudiness (0%-100%)': clouds_all_range_check\n",
    "}\n",
    "\n",
    "range_check_results"
   ]
  },
  {
   "cell_type": "markdown",
   "metadata": {},
   "source": [
    "### Saving"
   ]
  },
  {
   "cell_type": "code",
   "execution_count": 504,
   "metadata": {
    "ExecuteTime": {
     "end_time": "2023-12-08T16:43:10.240343300Z",
     "start_time": "2023-12-08T16:43:10.175560200Z"
    }
   },
   "outputs": [
    {
     "name": "stdout",
     "output_type": "stream",
     "text": [
      "Total number of features: 14\n"
     ]
    },
    {
     "data": {
      "text/plain": [
       "datetime               datetime64[ns]\n",
       "temp (K)                      float64\n",
       "feels_like                    float64\n",
       "pressure                      float64\n",
       "humidity                      float64\n",
       "temp_min                      float64\n",
       "temp_max                      float64\n",
       "wind_speed                    float64\n",
       "wind_deg                      float64\n",
       "clouds_all                    float64\n",
       "id_weather                    float64\n",
       "main_weather                   object\n",
       "description_weather            object\n",
       "icon_weather                   object\n",
       "dtype: object"
      ]
     },
     "execution_count": 504,
     "metadata": {},
     "output_type": "execute_result"
    }
   ],
   "source": [
    "print(f\"Total number of features: {raw_df.shape[1]}\")\n",
    "raw_df.dtypes"
   ]
  },
  {
   "cell_type": "code",
   "execution_count": 505,
   "metadata": {
    "ExecuteTime": {
     "end_time": "2023-12-08T16:43:10.416753300Z",
     "start_time": "2023-12-08T16:43:10.187520100Z"
    }
   },
   "outputs": [],
   "source": [
    "raw_df.to_csv(\"../data/processed/processed_data.csv\", index=False)"
   ]
  }
 ],
 "metadata": {
  "kernelspec": {
   "display_name": "Python 3 (ipykernel)",
   "language": "python",
   "name": "python3"
  },
  "language_info": {
   "codemirror_mode": {
    "name": "ipython",
    "version": 3
   },
   "file_extension": ".py",
   "mimetype": "text/x-python",
   "name": "python",
   "nbconvert_exporter": "python",
   "pygments_lexer": "ipython3",
   "version": "3.9.18"
  }
 },
 "nbformat": 4,
 "nbformat_minor": 4
}
