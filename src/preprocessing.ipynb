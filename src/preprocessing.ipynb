{
 "cells": [
  {
   "cell_type": "markdown",
   "metadata": {},
   "source": [
    "<div style=\"text-align: center; background-color: #559cff; font-family: 'Trebuchet MS', Arial, sans-serif; color: white; padding: 20px; font-size: 40px; font-weight: bold; border-radius: 0 0 0 0; box-shadow: 0px 6px 8px rgba(0, 0, 0, 0.2);\">\n",
    "  Lab 02 - Introduction To Data Science @ FIT-HCMUS, VNU-HCM 📌\n",
    "</div>"
   ]
  },
  {
   "cell_type": "markdown",
   "metadata": {},
   "source": [
    "<div style=\"text-align: center; background-color: #b1d1ff; font-family: 'Trebuchet MS', Arial, sans-serif; color: white; padding: 20px; font-size: 40px; font-weight: bold; border-radius: 0 0 0 0; box-shadow: 0px 6px 8px rgba(0, 0, 0, 0.2);\">\n",
    "  Stage 02 - Preprocessing\n",
    "</div>"
   ]
  },
  {
   "cell_type": "markdown",
   "metadata": {},
   "source": [
    "## Import"
   ]
  },
  {
   "cell_type": "code",
   "execution_count": 27,
   "metadata": {
    "ExecuteTime": {
     "end_time": "2023-12-14T14:02:09.535265800Z",
     "start_time": "2023-12-14T14:02:09.476462800Z"
    }
   },
   "outputs": [],
   "source": [
    "import os\n",
    "import sys\n",
    "\n",
    "module_path = os.path.abspath(os.path.join('..'))\n",
    "if module_path not in sys.path:\n",
    "    sys.path.append(module_path)\n",
    "\n",
    "import pandas as pd\n",
    "import matplotlib.pyplot as plt\n",
    "import seaborn as sns"
   ]
  },
  {
   "cell_type": "markdown",
   "metadata": {},
   "source": [
    "## Exploring your data"
   ]
  },
  {
   "cell_type": "markdown",
   "metadata": {},
   "source": [
    "### Read raw data from file"
   ]
  },
  {
   "cell_type": "code",
   "execution_count": 28,
   "metadata": {
    "ExecuteTime": {
     "end_time": "2023-12-14T14:02:09.655862200Z",
     "start_time": "2023-12-14T14:02:09.486429Z"
    }
   },
   "outputs": [
    {
     "data": {
      "text/plain": "       datetime  temp (K)  feels_like  pressure  humidity  temp_min  temp_max  \\\n0  1.670605e+09    299.16      299.16    1010.0      94.0    299.16    299.16   \n1  1.670609e+09    299.16      299.16    1009.0      94.0    299.16    299.16   \n2  1.670612e+09    298.16      299.33    1009.0     100.0    298.16    298.16   \n3  1.670616e+09    298.16      298.88    1008.0      83.0    298.16    298.16   \n4  1.670620e+09    298.16      298.88    1008.0      83.0    298.16    298.16   \n\n   wind_speed  wind_deg  clouds_all  id_weatrher main_weatrher  \\\n0        1.03       0.0        40.0        802.0        Clouds   \n1        1.03       0.0        40.0        802.0        Clouds   \n2        1.03       0.0        40.0        802.0        Clouds   \n3        1.03      20.0        40.0        802.0        Clouds   \n4        1.03      50.0        40.0        802.0        Clouds   \n\n  description_weatrher icon_weatrher  rain_1h  wind_gust  \n0     scattered clouds           03n      NaN        NaN  \n1     scattered clouds           03n      NaN        NaN  \n2     scattered clouds           03n      NaN        NaN  \n3     scattered clouds           03n      NaN        NaN  \n4     scattered clouds           03n      NaN        NaN  ",
      "text/html": "<div>\n<style scoped>\n    .dataframe tbody tr th:only-of-type {\n        vertical-align: middle;\n    }\n\n    .dataframe tbody tr th {\n        vertical-align: top;\n    }\n\n    .dataframe thead th {\n        text-align: right;\n    }\n</style>\n<table border=\"1\" class=\"dataframe\">\n  <thead>\n    <tr style=\"text-align: right;\">\n      <th></th>\n      <th>datetime</th>\n      <th>temp (K)</th>\n      <th>feels_like</th>\n      <th>pressure</th>\n      <th>humidity</th>\n      <th>temp_min</th>\n      <th>temp_max</th>\n      <th>wind_speed</th>\n      <th>wind_deg</th>\n      <th>clouds_all</th>\n      <th>id_weatrher</th>\n      <th>main_weatrher</th>\n      <th>description_weatrher</th>\n      <th>icon_weatrher</th>\n      <th>rain_1h</th>\n      <th>wind_gust</th>\n    </tr>\n  </thead>\n  <tbody>\n    <tr>\n      <th>0</th>\n      <td>1.670605e+09</td>\n      <td>299.16</td>\n      <td>299.16</td>\n      <td>1010.0</td>\n      <td>94.0</td>\n      <td>299.16</td>\n      <td>299.16</td>\n      <td>1.03</td>\n      <td>0.0</td>\n      <td>40.0</td>\n      <td>802.0</td>\n      <td>Clouds</td>\n      <td>scattered clouds</td>\n      <td>03n</td>\n      <td>NaN</td>\n      <td>NaN</td>\n    </tr>\n    <tr>\n      <th>1</th>\n      <td>1.670609e+09</td>\n      <td>299.16</td>\n      <td>299.16</td>\n      <td>1009.0</td>\n      <td>94.0</td>\n      <td>299.16</td>\n      <td>299.16</td>\n      <td>1.03</td>\n      <td>0.0</td>\n      <td>40.0</td>\n      <td>802.0</td>\n      <td>Clouds</td>\n      <td>scattered clouds</td>\n      <td>03n</td>\n      <td>NaN</td>\n      <td>NaN</td>\n    </tr>\n    <tr>\n      <th>2</th>\n      <td>1.670612e+09</td>\n      <td>298.16</td>\n      <td>299.33</td>\n      <td>1009.0</td>\n      <td>100.0</td>\n      <td>298.16</td>\n      <td>298.16</td>\n      <td>1.03</td>\n      <td>0.0</td>\n      <td>40.0</td>\n      <td>802.0</td>\n      <td>Clouds</td>\n      <td>scattered clouds</td>\n      <td>03n</td>\n      <td>NaN</td>\n      <td>NaN</td>\n    </tr>\n    <tr>\n      <th>3</th>\n      <td>1.670616e+09</td>\n      <td>298.16</td>\n      <td>298.88</td>\n      <td>1008.0</td>\n      <td>83.0</td>\n      <td>298.16</td>\n      <td>298.16</td>\n      <td>1.03</td>\n      <td>20.0</td>\n      <td>40.0</td>\n      <td>802.0</td>\n      <td>Clouds</td>\n      <td>scattered clouds</td>\n      <td>03n</td>\n      <td>NaN</td>\n      <td>NaN</td>\n    </tr>\n    <tr>\n      <th>4</th>\n      <td>1.670620e+09</td>\n      <td>298.16</td>\n      <td>298.88</td>\n      <td>1008.0</td>\n      <td>83.0</td>\n      <td>298.16</td>\n      <td>298.16</td>\n      <td>1.03</td>\n      <td>50.0</td>\n      <td>40.0</td>\n      <td>802.0</td>\n      <td>Clouds</td>\n      <td>scattered clouds</td>\n      <td>03n</td>\n      <td>NaN</td>\n      <td>NaN</td>\n    </tr>\n  </tbody>\n</table>\n</div>"
     },
     "execution_count": 28,
     "metadata": {},
     "output_type": "execute_result"
    }
   ],
   "source": [
    "raw_df = pd.read_csv(\"../data/raw_data.csv\")\n",
    "raw_df.head()"
   ]
  },
  {
   "cell_type": "markdown",
   "metadata": {},
   "source": [
    "### Checking shape"
   ]
  },
  {
   "cell_type": "markdown",
   "source": [
    "Checking if the data is qualified or not"
   ],
   "metadata": {
    "collapsed": false
   }
  },
  {
   "cell_type": "code",
   "execution_count": 29,
   "metadata": {
    "ExecuteTime": {
     "end_time": "2023-12-14T14:02:09.665829300Z",
     "start_time": "2023-12-14T14:02:09.517325800Z"
    }
   },
   "outputs": [],
   "source": [
    "shape = raw_df.shape"
   ]
  },
  {
   "cell_type": "code",
   "execution_count": 30,
   "metadata": {
    "ExecuteTime": {
     "end_time": "2023-12-14T14:02:09.666825800Z",
     "start_time": "2023-12-14T14:02:09.532275700Z"
    }
   },
   "outputs": [
    {
     "name": "stdout",
     "output_type": "stream",
     "text": [
      "Shape: (9720, 16)\n",
      "Data is qualified.\n"
     ]
    }
   ],
   "source": [
    "print(f\"Shape: {shape}\")\n",
    "\n",
    "if shape[0] > 1000:\n",
    "    print(f\"Data is qualified.\")\n",
    "else:\n",
    "    print(f\"Data isn't qualified\")"
   ]
  },
  {
   "cell_type": "markdown",
   "metadata": {},
   "source": [
    "### Dealing with duplicates"
   ]
  },
  {
   "cell_type": "markdown",
   "source": [],
   "metadata": {
    "collapsed": false
   }
  },
  {
   "cell_type": "code",
   "execution_count": 31,
   "metadata": {
    "ExecuteTime": {
     "end_time": "2023-12-14T14:02:09.680778800Z",
     "start_time": "2023-12-14T14:02:09.547225600Z"
    }
   },
   "outputs": [],
   "source": [
    "num_duplicated_rows = raw_df.duplicated(keep='first').sum()"
   ]
  },
  {
   "cell_type": "code",
   "execution_count": 32,
   "metadata": {
    "ExecuteTime": {
     "end_time": "2023-12-14T14:02:09.681776100Z",
     "start_time": "2023-12-14T14:02:09.562175700Z"
    }
   },
   "outputs": [
    {
     "name": "stdout",
     "output_type": "stream",
     "text": [
      "993 duplicated lines. De-deduplicating the raw data.\n"
     ]
    }
   ],
   "source": [
    "if num_duplicated_rows == 0:\n",
    "    print(f\"No duplicated lines.\")\n",
    "else:\n",
    "    ext = \"lines\" if num_duplicated_rows > 1 else \"line\"\n",
    "    print(f\"{num_duplicated_rows} duplicated {ext}. De-deduplicating the raw data.\")"
   ]
  },
  {
   "cell_type": "code",
   "execution_count": 33,
   "metadata": {
    "ExecuteTime": {
     "end_time": "2023-12-14T14:02:09.681776100Z",
     "start_time": "2023-12-14T14:02:09.580117700Z"
    }
   },
   "outputs": [],
   "source": [
    "# De-deduplicate\n",
    "raw_df = raw_df.drop_duplicates(keep='first')\n",
    "post_deduplication_count = raw_df.duplicated(keep='first').sum()\n",
    "assert post_deduplication_count == 0, \"Still have duplicated rows after de-duplication.\""
   ]
  },
  {
   "cell_type": "code",
<<<<<<< Updated upstream
   "execution_count": 493,
   "outputs": [
    {
     "data": {
      "text/plain": "(datetime               1008\n temp (K)               1008\n feels_like             1008\n pressure               1008\n humidity               1008\n temp_min               1008\n temp_max               1008\n wind_speed             1008\n wind_deg               1008\n clouds_all             1008\n id_weather              945\n main_weather            945\n description_weather     945\n icon_weather            945\n rain_1h                8794\n wind_gust              9605\n dtype: int64,\n datetime               datetime64[ns]\n temp (K)                      float64\n feels_like                    float64\n pressure                      float64\n humidity                      float64\n temp_min                      float64\n temp_max                      float64\n wind_speed                    float64\n wind_deg                      float64\n clouds_all                    float64\n id_weather                    float64\n main_weather                   object\n description_weather            object\n icon_weather                   object\n rain_1h                       float64\n wind_gust                     float64\n dtype: object)"
=======
   "execution_count": 34,
   "metadata": {
    "collapsed": false,
    "ExecuteTime": {
     "end_time": "2023-12-14T14:02:09.682773700Z",
     "start_time": "2023-12-14T14:02:09.593072400Z"
    }
   },
   "outputs": [
    {
     "data": {
      "text/plain": "(datetime                 15\n temp (K)                 15\n feels_like               15\n pressure                 15\n humidity                 15\n temp_min                 15\n temp_max                 15\n wind_speed               15\n wind_deg                 15\n clouds_all               15\n id_weather                1\n main_weather              1\n description_weather       1\n icon_weather              1\n rain_1h                7801\n wind_gust              8612\n dtype: int64,\n datetime               datetime64[ns]\n temp (K)                      float64\n feels_like                    float64\n pressure                      float64\n humidity                      float64\n temp_min                      float64\n temp_max                      float64\n wind_speed                    float64\n wind_deg                      float64\n clouds_all                    float64\n id_weather                    float64\n main_weather                   object\n description_weather            object\n icon_weather                   object\n rain_1h                       float64\n wind_gust                     float64\n dtype: object)"
>>>>>>> Stashed changes
     },
     "execution_count": 34,
     "metadata": {},
     "output_type": "execute_result"
    }
   ],
   "source": [
    "# Converting 'datetime' from Unix timestamp to readable datetime format\n",
    "raw_df['datetime'] = pd.to_datetime(raw_df['datetime'], unit='s')\n",
    "\n",
    "# Renaming columns\n",
    "raw_df = raw_df.rename(columns={\n",
    "    'id_weatrher': 'id_weather',\n",
    "    'main_weatrher': 'main_weather',\n",
    "    'description_weatrher': 'description_weather',\n",
    "    'icon_weatrher': 'icon_weather'\n",
    "})\n",
    "\n",
    "missing_values = raw_df.isnull().sum()\n",
    "\n",
    "data_types = raw_df.dtypes\n",
    "\n",
    "missing_values, data_types"
   ],
   "metadata": {
    "collapsed": false,
    "ExecuteTime": {
     "end_time": "2023-12-08T16:43:09.751955900Z",
     "start_time": "2023-12-08T16:43:09.709099100Z"
    }
   }
  },
  {
   "cell_type": "markdown",
<<<<<<< Updated upstream
=======
   "metadata": {
    "collapsed": false
   },
>>>>>>> Stashed changes
   "source": [
    "### Checking distribution"
   ],
   "metadata": {
    "collapsed": false
   }
  },
  {
   "cell_type": "markdown",
   "metadata": {},
   "source": [
    "For columns with numeric data types:\n",
    "- Percentage (from 0 to 100) of missing values\n",
    "- The min\n",
    "- The lower quartile (phân vị 25)\n",
    "- The median (phân vị 50)\n",
    "- The upper quartile (phân vị 75)\n",
    "- The max\n",
    "\n",
    "For viewing, using `.round(1)`."
   ]
  },
  {
   "cell_type": "code",
   "execution_count": 35,
   "metadata": {
    "ExecuteTime": {
     "end_time": "2023-12-14T14:02:09.682773700Z",
     "start_time": "2023-12-14T14:02:09.609019300Z"
    }
   },
   "outputs": [],
   "source": [
    "def numeric_column_info(df: pd.DataFrame) -> pd.DataFrame:\n",
    "    numeric_columns = df.select_dtypes(include=['float64', 'int64']).columns\n",
    "\n",
    "    num_col_info = {}\n",
    "    for col in numeric_columns:\n",
    "        num_col_info[col] = [\n",
    "            df[col].isnull().mean() * 100,  # Missing ratio\n",
    "            df[col].min(),                  # Min\n",
    "            df[col].quantile(0.25),         # Lower quartile\n",
    "            df[col].median(),               # Median\n",
    "            df[col].quantile(0.75),         # Upper quartile\n",
    "            df[col].max()                   # Max\n",
    "        ]\n",
    "\n",
    "    # Creating the DataFrame\n",
    "    num_col_info_df = pd.DataFrame(num_col_info, index=[\"missing_ratio\", \"min\", \"lower_quartile\", \"median\", \"upper_quartile\", \"max\"])\n",
    "\n",
    "    # Rounding values to 1 decimal place\n",
    "    num_col_info_df = num_col_info_df.round(1)\n",
    "\n",
    "    return num_col_info_df"
   ]
  },
  {
   "cell_type": "code",
<<<<<<< Updated upstream
   "execution_count": 495,
   "outputs": [
    {
     "data": {
      "text/plain": "                temp (K)  feels_like  pressure  humidity  temp_min  temp_max  \\\nmissing_ratio       10.4        10.4      10.4      10.4      10.4      10.4   \nmin                292.2       292.4    1001.0      14.0     292.2     292.2   \nlower_quartile     299.2       299.3    1008.0      69.0     299.2     299.2   \nmedian             301.2       305.8    1010.0      84.0     301.2     301.2   \nupper_quartile     304.2       309.6    1011.0      94.0     304.2     304.2   \nmax                311.2       317.2    1018.0     100.0     311.2     311.2   \n\n                wind_speed  wind_deg  clouds_all  id_weather  rain_1h  \\\nmissing_ratio         10.4      10.4        10.4         9.7     90.5   \nmin                    0.0       0.0         0.0       200.0      0.1   \nlower_quartile         1.5      10.0        40.0       801.0      0.2   \nmedian                 2.6     160.0        40.0       802.0      0.8   \nupper_quartile         4.1     250.0        75.0       802.0      2.2   \nmax                   11.3     360.0       100.0       804.0     36.5   \n\n                wind_gust  \nmissing_ratio        98.8  \nmin                   1.9  \nlower_quartile        5.3  \nmedian                9.8  \nupper_quartile       12.9  \nmax                  20.6  ",
      "text/html": "<div>\n<style scoped>\n    .dataframe tbody tr th:only-of-type {\n        vertical-align: middle;\n    }\n\n    .dataframe tbody tr th {\n        vertical-align: top;\n    }\n\n    .dataframe thead th {\n        text-align: right;\n    }\n</style>\n<table border=\"1\" class=\"dataframe\">\n  <thead>\n    <tr style=\"text-align: right;\">\n      <th></th>\n      <th>temp (K)</th>\n      <th>feels_like</th>\n      <th>pressure</th>\n      <th>humidity</th>\n      <th>temp_min</th>\n      <th>temp_max</th>\n      <th>wind_speed</th>\n      <th>wind_deg</th>\n      <th>clouds_all</th>\n      <th>id_weather</th>\n      <th>rain_1h</th>\n      <th>wind_gust</th>\n    </tr>\n  </thead>\n  <tbody>\n    <tr>\n      <th>missing_ratio</th>\n      <td>10.4</td>\n      <td>10.4</td>\n      <td>10.4</td>\n      <td>10.4</td>\n      <td>10.4</td>\n      <td>10.4</td>\n      <td>10.4</td>\n      <td>10.4</td>\n      <td>10.4</td>\n      <td>9.7</td>\n      <td>90.5</td>\n      <td>98.8</td>\n    </tr>\n    <tr>\n      <th>min</th>\n      <td>292.2</td>\n      <td>292.4</td>\n      <td>1001.0</td>\n      <td>14.0</td>\n      <td>292.2</td>\n      <td>292.2</td>\n      <td>0.0</td>\n      <td>0.0</td>\n      <td>0.0</td>\n      <td>200.0</td>\n      <td>0.1</td>\n      <td>1.9</td>\n    </tr>\n    <tr>\n      <th>lower_quartile</th>\n      <td>299.2</td>\n      <td>299.3</td>\n      <td>1008.0</td>\n      <td>69.0</td>\n      <td>299.2</td>\n      <td>299.2</td>\n      <td>1.5</td>\n      <td>10.0</td>\n      <td>40.0</td>\n      <td>801.0</td>\n      <td>0.2</td>\n      <td>5.3</td>\n    </tr>\n    <tr>\n      <th>median</th>\n      <td>301.2</td>\n      <td>305.8</td>\n      <td>1010.0</td>\n      <td>84.0</td>\n      <td>301.2</td>\n      <td>301.2</td>\n      <td>2.6</td>\n      <td>160.0</td>\n      <td>40.0</td>\n      <td>802.0</td>\n      <td>0.8</td>\n      <td>9.8</td>\n    </tr>\n    <tr>\n      <th>upper_quartile</th>\n      <td>304.2</td>\n      <td>309.6</td>\n      <td>1011.0</td>\n      <td>94.0</td>\n      <td>304.2</td>\n      <td>304.2</td>\n      <td>4.1</td>\n      <td>250.0</td>\n      <td>75.0</td>\n      <td>802.0</td>\n      <td>2.2</td>\n      <td>12.9</td>\n    </tr>\n    <tr>\n      <th>max</th>\n      <td>311.2</td>\n      <td>317.2</td>\n      <td>1018.0</td>\n      <td>100.0</td>\n      <td>311.2</td>\n      <td>311.2</td>\n      <td>11.3</td>\n      <td>360.0</td>\n      <td>100.0</td>\n      <td>804.0</td>\n      <td>36.5</td>\n      <td>20.6</td>\n    </tr>\n  </tbody>\n</table>\n</div>"
=======
   "execution_count": 36,
   "metadata": {
    "collapsed": false,
    "ExecuteTime": {
     "end_time": "2023-12-14T14:02:09.750546800Z",
     "start_time": "2023-12-14T14:02:09.624965600Z"
    }
   },
   "outputs": [
    {
     "data": {
      "text/plain": "                temp (K)  feels_like  pressure  humidity  temp_min  temp_max  \\\nmissing_ratio        0.2         0.2       0.2       0.2       0.2       0.2   \nmin                292.2       292.4    1001.0      14.0     292.2     292.2   \nlower_quartile     299.2       299.3    1008.0      69.0     299.2     299.2   \nmedian             301.2       305.8    1010.0      84.0     301.2     301.2   \nupper_quartile     304.2       309.6    1011.0      94.0     304.2     304.2   \nmax                311.2       317.2    1018.0     100.0     311.2     311.2   \n\n                wind_speed  wind_deg  clouds_all  id_weather  rain_1h  \\\nmissing_ratio          0.2       0.2         0.2         0.0     89.4   \nmin                    0.0       0.0         0.0       200.0      0.1   \nlower_quartile         1.5      10.0        40.0       801.0      0.2   \nmedian                 2.6     160.0        40.0       802.0      0.8   \nupper_quartile         4.1     250.0        75.0       802.0      2.2   \nmax                   11.3     360.0       100.0       804.0     36.5   \n\n                wind_gust  \nmissing_ratio        98.7  \nmin                   1.9  \nlower_quartile        5.3  \nmedian                9.8  \nupper_quartile       12.9  \nmax                  20.6  ",
      "text/html": "<div>\n<style scoped>\n    .dataframe tbody tr th:only-of-type {\n        vertical-align: middle;\n    }\n\n    .dataframe tbody tr th {\n        vertical-align: top;\n    }\n\n    .dataframe thead th {\n        text-align: right;\n    }\n</style>\n<table border=\"1\" class=\"dataframe\">\n  <thead>\n    <tr style=\"text-align: right;\">\n      <th></th>\n      <th>temp (K)</th>\n      <th>feels_like</th>\n      <th>pressure</th>\n      <th>humidity</th>\n      <th>temp_min</th>\n      <th>temp_max</th>\n      <th>wind_speed</th>\n      <th>wind_deg</th>\n      <th>clouds_all</th>\n      <th>id_weather</th>\n      <th>rain_1h</th>\n      <th>wind_gust</th>\n    </tr>\n  </thead>\n  <tbody>\n    <tr>\n      <th>missing_ratio</th>\n      <td>0.2</td>\n      <td>0.2</td>\n      <td>0.2</td>\n      <td>0.2</td>\n      <td>0.2</td>\n      <td>0.2</td>\n      <td>0.2</td>\n      <td>0.2</td>\n      <td>0.2</td>\n      <td>0.0</td>\n      <td>89.4</td>\n      <td>98.7</td>\n    </tr>\n    <tr>\n      <th>min</th>\n      <td>292.2</td>\n      <td>292.4</td>\n      <td>1001.0</td>\n      <td>14.0</td>\n      <td>292.2</td>\n      <td>292.2</td>\n      <td>0.0</td>\n      <td>0.0</td>\n      <td>0.0</td>\n      <td>200.0</td>\n      <td>0.1</td>\n      <td>1.9</td>\n    </tr>\n    <tr>\n      <th>lower_quartile</th>\n      <td>299.2</td>\n      <td>299.3</td>\n      <td>1008.0</td>\n      <td>69.0</td>\n      <td>299.2</td>\n      <td>299.2</td>\n      <td>1.5</td>\n      <td>10.0</td>\n      <td>40.0</td>\n      <td>801.0</td>\n      <td>0.2</td>\n      <td>5.3</td>\n    </tr>\n    <tr>\n      <th>median</th>\n      <td>301.2</td>\n      <td>305.8</td>\n      <td>1010.0</td>\n      <td>84.0</td>\n      <td>301.2</td>\n      <td>301.2</td>\n      <td>2.6</td>\n      <td>160.0</td>\n      <td>40.0</td>\n      <td>802.0</td>\n      <td>0.8</td>\n      <td>9.8</td>\n    </tr>\n    <tr>\n      <th>upper_quartile</th>\n      <td>304.2</td>\n      <td>309.6</td>\n      <td>1011.0</td>\n      <td>94.0</td>\n      <td>304.2</td>\n      <td>304.2</td>\n      <td>4.1</td>\n      <td>250.0</td>\n      <td>75.0</td>\n      <td>802.0</td>\n      <td>2.2</td>\n      <td>12.9</td>\n    </tr>\n    <tr>\n      <th>max</th>\n      <td>311.2</td>\n      <td>317.2</td>\n      <td>1018.0</td>\n      <td>100.0</td>\n      <td>311.2</td>\n      <td>311.2</td>\n      <td>11.3</td>\n      <td>360.0</td>\n      <td>100.0</td>\n      <td>804.0</td>\n      <td>36.5</td>\n      <td>20.6</td>\n    </tr>\n  </tbody>\n</table>\n</div>"
>>>>>>> Stashed changes
     },
     "execution_count": 36,
     "metadata": {},
     "output_type": "execute_result"
    }
   ],
   "source": [
    "num_col_info_df = numeric_column_info(raw_df)\n",
    "\n",
    "num_col_info_df"
   ],
   "metadata": {
    "collapsed": false,
    "ExecuteTime": {
     "end_time": "2023-12-08T16:43:09.814260600Z",
     "start_time": "2023-12-08T16:43:09.740992500Z"
    }
   }
  },
  {
   "cell_type": "code",
   "execution_count": 496,
   "metadata": {
    "ExecuteTime": {
     "end_time": "2023-12-08T16:43:10.002139500Z",
     "start_time": "2023-12-08T16:43:09.781855700Z"
    }
   },
   "outputs": [
    {
     "data": {
      "text/plain": "<Figure size 2000x500 with 2 Axes>",
      "image/png": "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"
     },
     "metadata": {},
     "output_type": "display_data"
    }
   ],
   "source": [
    "plt.figure(figsize=(20, 5))\n",
    "sns.heatmap(num_col_info_df, annot=True, fmt=\".1f\", cmap='viridis', cbar=True)\n",
    "plt.xticks(rotation=45, ha='right')\n",
    "plt.show()"
   ]
  },
  {
   "cell_type": "code",
   "execution_count": 37,
   "metadata": {
    "ExecuteTime": {
     "end_time": "2023-12-14T14:02:09.754532600Z",
     "start_time": "2023-12-14T14:02:09.674799300Z"
    }
   },
   "outputs": [
    {
     "data": {
<<<<<<< Updated upstream
      "text/plain": "{'temp (K)': 10.4,\n 'feels_like': 10.4,\n 'pressure': 10.4,\n 'humidity': 10.4,\n 'temp_min': 10.4,\n 'temp_max': 10.4,\n 'wind_speed': 10.4,\n 'wind_deg': 10.4,\n 'clouds_all': 10.4,\n 'id_weather': 9.7,\n 'rain_1h': 90.5,\n 'wind_gust': 98.8}"
=======
      "text/plain": "{'temp (K)': 0.2,\n 'feels_like': 0.2,\n 'pressure': 0.2,\n 'humidity': 0.2,\n 'temp_min': 0.2,\n 'temp_max': 0.2,\n 'wind_speed': 0.2,\n 'wind_deg': 0.2,\n 'clouds_all': 0.2,\n 'id_weather': 0.0,\n 'rain_1h': 89.4,\n 'wind_gust': 98.7}"
>>>>>>> Stashed changes
     },
     "execution_count": 37,
     "metadata": {},
     "output_type": "execute_result"
    }
   ],
   "source": [
    "dict(num_col_info_df.iloc[0])"
   ]
  },
  {
   "cell_type": "code",
   "execution_count": 38,
   "metadata": {
    "ExecuteTime": {
     "end_time": "2023-12-14T14:02:09.755529200Z",
     "start_time": "2023-12-14T14:02:09.690748400Z"
    }
   },
   "outputs": [],
   "source": [
    "def drop_missing_features(df: pd.DataFrame, missing_lst=None, threshold: float = 75.0) -> pd.DataFrame:\n",
    "\n",
    "    if (df is None) or (missing_lst is None) or (threshold is None):\n",
    "        print(f\"Invalid.\")\n",
    "        raise ValueError\n",
    "    \n",
    "    df_cp = df.copy()\n",
    "    \n",
    "    cols_to_trim = []\n",
    "    \n",
    "    for key, value in missing_lst.items():\n",
    "        if float(value) > threshold:\n",
    "            cols_to_trim.append(key)\n",
    "            \n",
    "    if len(cols_to_trim) > 0:\n",
    "        df_cp = df_cp.drop(columns=cols_to_trim)\n",
    "        print(\"Dropped column(s): \" + \" \".join(cols_to_trim))\n",
    "    else:\n",
    "        print(\"Have no column(s) to trim.\")\n",
    "        \n",
    "    return df_cp"
   ]
  },
  {
   "cell_type": "code",
   "execution_count": 39,
   "metadata": {
    "ExecuteTime": {
     "end_time": "2023-12-14T14:02:09.815329Z",
     "start_time": "2023-12-14T14:02:09.702705800Z"
    }
   },
   "outputs": [
    {
     "name": "stdout",
     "output_type": "stream",
     "text": [
      "Dropped column(s): rain_1h wind_gust\n"
     ]
    }
   ],
   "source": [
    "raw_df = drop_missing_features(raw_df, dict(num_col_info_df.iloc[0]))\n",
    "# Drop columns with no dates\n",
    "raw_df.dropna(subset=['datetime'], inplace=True)"
   ]
  },
  {
   "cell_type": "code",
   "execution_count": 40,
   "metadata": {
    "ExecuteTime": {
     "end_time": "2023-12-14T14:02:09.817323800Z",
     "start_time": "2023-12-14T14:02:09.718653900Z"
    }
   },
   "outputs": [
    {
     "data": {
      "text/plain": "             datetime  temp (K)  feels_like  pressure  humidity  temp_min  \\\n0 2022-12-09 17:00:00    299.16      299.16    1010.0      94.0    299.16   \n1 2022-12-09 18:00:00    299.16      299.16    1009.0      94.0    299.16   \n2 2022-12-09 19:00:00    298.16      299.33    1009.0     100.0    298.16   \n3 2022-12-09 20:00:00    298.16      298.88    1008.0      83.0    298.16   \n4 2022-12-09 21:00:00    298.16      298.88    1008.0      83.0    298.16   \n\n   temp_max  wind_speed  wind_deg  clouds_all  id_weather main_weather  \\\n0    299.16        1.03       0.0        40.0       802.0       Clouds   \n1    299.16        1.03       0.0        40.0       802.0       Clouds   \n2    298.16        1.03       0.0        40.0       802.0       Clouds   \n3    298.16        1.03      20.0        40.0       802.0       Clouds   \n4    298.16        1.03      50.0        40.0       802.0       Clouds   \n\n  description_weather icon_weather  \n0    scattered clouds          03n  \n1    scattered clouds          03n  \n2    scattered clouds          03n  \n3    scattered clouds          03n  \n4    scattered clouds          03n  ",
      "text/html": "<div>\n<style scoped>\n    .dataframe tbody tr th:only-of-type {\n        vertical-align: middle;\n    }\n\n    .dataframe tbody tr th {\n        vertical-align: top;\n    }\n\n    .dataframe thead th {\n        text-align: right;\n    }\n</style>\n<table border=\"1\" class=\"dataframe\">\n  <thead>\n    <tr style=\"text-align: right;\">\n      <th></th>\n      <th>datetime</th>\n      <th>temp (K)</th>\n      <th>feels_like</th>\n      <th>pressure</th>\n      <th>humidity</th>\n      <th>temp_min</th>\n      <th>temp_max</th>\n      <th>wind_speed</th>\n      <th>wind_deg</th>\n      <th>clouds_all</th>\n      <th>id_weather</th>\n      <th>main_weather</th>\n      <th>description_weather</th>\n      <th>icon_weather</th>\n    </tr>\n  </thead>\n  <tbody>\n    <tr>\n      <th>0</th>\n      <td>2022-12-09 17:00:00</td>\n      <td>299.16</td>\n      <td>299.16</td>\n      <td>1010.0</td>\n      <td>94.0</td>\n      <td>299.16</td>\n      <td>299.16</td>\n      <td>1.03</td>\n      <td>0.0</td>\n      <td>40.0</td>\n      <td>802.0</td>\n      <td>Clouds</td>\n      <td>scattered clouds</td>\n      <td>03n</td>\n    </tr>\n    <tr>\n      <th>1</th>\n      <td>2022-12-09 18:00:00</td>\n      <td>299.16</td>\n      <td>299.16</td>\n      <td>1009.0</td>\n      <td>94.0</td>\n      <td>299.16</td>\n      <td>299.16</td>\n      <td>1.03</td>\n      <td>0.0</td>\n      <td>40.0</td>\n      <td>802.0</td>\n      <td>Clouds</td>\n      <td>scattered clouds</td>\n      <td>03n</td>\n    </tr>\n    <tr>\n      <th>2</th>\n      <td>2022-12-09 19:00:00</td>\n      <td>298.16</td>\n      <td>299.33</td>\n      <td>1009.0</td>\n      <td>100.0</td>\n      <td>298.16</td>\n      <td>298.16</td>\n      <td>1.03</td>\n      <td>0.0</td>\n      <td>40.0</td>\n      <td>802.0</td>\n      <td>Clouds</td>\n      <td>scattered clouds</td>\n      <td>03n</td>\n    </tr>\n    <tr>\n      <th>3</th>\n      <td>2022-12-09 20:00:00</td>\n      <td>298.16</td>\n      <td>298.88</td>\n      <td>1008.0</td>\n      <td>83.0</td>\n      <td>298.16</td>\n      <td>298.16</td>\n      <td>1.03</td>\n      <td>20.0</td>\n      <td>40.0</td>\n      <td>802.0</td>\n      <td>Clouds</td>\n      <td>scattered clouds</td>\n      <td>03n</td>\n    </tr>\n    <tr>\n      <th>4</th>\n      <td>2022-12-09 21:00:00</td>\n      <td>298.16</td>\n      <td>298.88</td>\n      <td>1008.0</td>\n      <td>83.0</td>\n      <td>298.16</td>\n      <td>298.16</td>\n      <td>1.03</td>\n      <td>50.0</td>\n      <td>40.0</td>\n      <td>802.0</td>\n      <td>Clouds</td>\n      <td>scattered clouds</td>\n      <td>03n</td>\n    </tr>\n  </tbody>\n</table>\n</div>"
     },
     "execution_count": 40,
     "metadata": {},
     "output_type": "execute_result"
    }
   ],
   "source": [
    "raw_df.head()"
   ]
  },
  {
   "cell_type": "code",
   "execution_count": 41,
   "metadata": {
    "ExecuteTime": {
     "end_time": "2023-12-14T14:02:09.915992Z",
     "start_time": "2023-12-14T14:02:09.732605700Z"
    }
   },
   "outputs": [
    {
     "data": {
      "text/plain": "                temp (K)  feels_like  pressure  humidity  temp_min  temp_max  \\\nmissing_ratio        0.0         0.0       0.0       0.0       0.0       0.0   \nmin                292.2       292.4    1001.0      14.0     292.2     292.2   \nlower_quartile     299.2       299.3    1008.0      69.0     299.2     299.2   \nmedian             301.2       305.8    1010.0      84.0     301.2     301.2   \nupper_quartile     304.2       309.6    1011.0      94.0     304.2     304.2   \nmax                311.2       317.2    1018.0     100.0     311.2     311.2   \n\n                wind_speed  wind_deg  clouds_all  id_weather  \nmissing_ratio          0.0       0.0         0.0         0.0  \nmin                    0.0       0.0         0.0       200.0  \nlower_quartile         1.5      10.0        40.0       801.0  \nmedian                 2.6     160.0        40.0       802.0  \nupper_quartile         4.1     250.0        75.0       802.0  \nmax                   11.3     360.0       100.0       804.0  ",
      "text/html": "<div>\n<style scoped>\n    .dataframe tbody tr th:only-of-type {\n        vertical-align: middle;\n    }\n\n    .dataframe tbody tr th {\n        vertical-align: top;\n    }\n\n    .dataframe thead th {\n        text-align: right;\n    }\n</style>\n<table border=\"1\" class=\"dataframe\">\n  <thead>\n    <tr style=\"text-align: right;\">\n      <th></th>\n      <th>temp (K)</th>\n      <th>feels_like</th>\n      <th>pressure</th>\n      <th>humidity</th>\n      <th>temp_min</th>\n      <th>temp_max</th>\n      <th>wind_speed</th>\n      <th>wind_deg</th>\n      <th>clouds_all</th>\n      <th>id_weather</th>\n    </tr>\n  </thead>\n  <tbody>\n    <tr>\n      <th>missing_ratio</th>\n      <td>0.0</td>\n      <td>0.0</td>\n      <td>0.0</td>\n      <td>0.0</td>\n      <td>0.0</td>\n      <td>0.0</td>\n      <td>0.0</td>\n      <td>0.0</td>\n      <td>0.0</td>\n      <td>0.0</td>\n    </tr>\n    <tr>\n      <th>min</th>\n      <td>292.2</td>\n      <td>292.4</td>\n      <td>1001.0</td>\n      <td>14.0</td>\n      <td>292.2</td>\n      <td>292.2</td>\n      <td>0.0</td>\n      <td>0.0</td>\n      <td>0.0</td>\n      <td>200.0</td>\n    </tr>\n    <tr>\n      <th>lower_quartile</th>\n      <td>299.2</td>\n      <td>299.3</td>\n      <td>1008.0</td>\n      <td>69.0</td>\n      <td>299.2</td>\n      <td>299.2</td>\n      <td>1.5</td>\n      <td>10.0</td>\n      <td>40.0</td>\n      <td>801.0</td>\n    </tr>\n    <tr>\n      <th>median</th>\n      <td>301.2</td>\n      <td>305.8</td>\n      <td>1010.0</td>\n      <td>84.0</td>\n      <td>301.2</td>\n      <td>301.2</td>\n      <td>2.6</td>\n      <td>160.0</td>\n      <td>40.0</td>\n      <td>802.0</td>\n    </tr>\n    <tr>\n      <th>upper_quartile</th>\n      <td>304.2</td>\n      <td>309.6</td>\n      <td>1011.0</td>\n      <td>94.0</td>\n      <td>304.2</td>\n      <td>304.2</td>\n      <td>4.1</td>\n      <td>250.0</td>\n      <td>75.0</td>\n      <td>802.0</td>\n    </tr>\n    <tr>\n      <th>max</th>\n      <td>311.2</td>\n      <td>317.2</td>\n      <td>1018.0</td>\n      <td>100.0</td>\n      <td>311.2</td>\n      <td>311.2</td>\n      <td>11.3</td>\n      <td>360.0</td>\n      <td>100.0</td>\n      <td>804.0</td>\n    </tr>\n  </tbody>\n</table>\n</div>"
     },
     "execution_count": 41,
     "metadata": {},
     "output_type": "execute_result"
    }
   ],
   "source": [
    "num_col_info_df = numeric_column_info(raw_df)\n",
    "\n",
    "num_col_info_df"
   ]
  },
  {
   "cell_type": "markdown",
<<<<<<< Updated upstream
=======
   "metadata": {
    "collapsed": false
   },
>>>>>>> Stashed changes
   "source": [
    "Skipping filling because there is no missing cells."
   ],
   "metadata": {
    "collapsed": false
   }
  },
  {
   "cell_type": "markdown",
   "metadata": {},
   "source": [
    "For columns with non-numeric data types:\n",
    "- Percentage (from 0 to 100) of missing values\n",
    "- Number of values (the values here are different values and we do not consider missing values)\n",
    "- The percentage (from 0 to 100) of each value is sorted by decreasing percentage (we do not consider missing values, the ratio is the ratio compared to the number of non-missing values)"
   ]
  },
  {
   "cell_type": "code",
   "execution_count": 42,
   "metadata": {
    "ExecuteTime": {
     "end_time": "2023-12-14T14:02:10.045559800Z",
     "start_time": "2023-12-14T14:02:09.764499100Z"
    }
   },
   "outputs": [
    {
     "data": {
<<<<<<< Updated upstream
      "text/plain": "                                                                                                          datetime  \\\nmissing_ratio                                                                                                  0.0   \nnum_values                                                                                                    8712   \nvalue_ratios   {2022-12-09 17:00:00: 0.01147842056932966, 2023-08-08 19:00:00: 0.01147842056932966, 2023-08-08 ...   \n\n                                                                                                      main_weather  \\\nmissing_ratio                                                                                                  0.0   \nnum_values                                                                                                       7   \nvalue_ratios   {'Clouds': 85.43388429752066, 'Rain': 9.77961432506887, 'Clear': 2.9843893480257115, 'Mist': 1.2...   \n\n                                                                                               description_weather  \\\nmissing_ratio                                                                                                  0.0   \nnum_values                                                                                                      19   \nvalue_ratios   {'scattered clouds': 41.976584022038566, 'broken clouds': 21.556473829201103, 'few clouds': 21.0...   \n\n                                                                                                      icon_weather  \nmissing_ratio                                                                                                  0.0  \nnum_values                                                                                                      16  \nvalue_ratios   {'03n': 22.302571166207528, '03d': 19.674012855831037, '04d': 15.495867768595042, '02n': 12.3048...  ",
      "text/html": "<div>\n<style scoped>\n    .dataframe tbody tr th:only-of-type {\n        vertical-align: middle;\n    }\n\n    .dataframe tbody tr th {\n        vertical-align: top;\n    }\n\n    .dataframe thead th {\n        text-align: right;\n    }\n</style>\n<table border=\"1\" class=\"dataframe\">\n  <thead>\n    <tr style=\"text-align: right;\">\n      <th></th>\n      <th>datetime</th>\n      <th>main_weather</th>\n      <th>description_weather</th>\n      <th>icon_weather</th>\n    </tr>\n  </thead>\n  <tbody>\n    <tr>\n      <th>missing_ratio</th>\n      <td>0.0</td>\n      <td>0.0</td>\n      <td>0.0</td>\n      <td>0.0</td>\n    </tr>\n    <tr>\n      <th>num_values</th>\n      <td>8712</td>\n      <td>7</td>\n      <td>19</td>\n      <td>16</td>\n    </tr>\n    <tr>\n      <th>value_ratios</th>\n      <td>{2022-12-09 17:00:00: 0.01147842056932966, 2023-08-08 19:00:00: 0.01147842056932966, 2023-08-08 ...</td>\n      <td>{'Clouds': 85.43388429752066, 'Rain': 9.77961432506887, 'Clear': 2.9843893480257115, 'Mist': 1.2...</td>\n      <td>{'scattered clouds': 41.976584022038566, 'broken clouds': 21.556473829201103, 'few clouds': 21.0...</td>\n      <td>{'03n': 22.302571166207528, '03d': 19.674012855831037, '04d': 15.495867768595042, '02n': 12.3048...</td>\n    </tr>\n  </tbody>\n</table>\n</div>"
=======
      "text/plain": "                                                        datetime  \\\nmissing_ratio                                                0.0   \nnum_values                                                  8712   \nvalue_ratios   {2022-12-09 17:00:00: 0.01147842056932966, 202...   \n\n                                                    main_weather  \\\nmissing_ratio                                                0.0   \nnum_values                                                     7   \nvalue_ratios   {'Clouds': 85.43388429752066, 'Rain': 9.779614...   \n\n                                             description_weather  \\\nmissing_ratio                                                0.0   \nnum_values                                                    19   \nvalue_ratios   {'scattered clouds': 41.976584022038566, 'brok...   \n\n                                                    icon_weather  \nmissing_ratio                                                0.0  \nnum_values                                                    16  \nvalue_ratios   {'03n': 22.302571166207528, '03d': 19.67401285...  ",
      "text/html": "<div>\n<style scoped>\n    .dataframe tbody tr th:only-of-type {\n        vertical-align: middle;\n    }\n\n    .dataframe tbody tr th {\n        vertical-align: top;\n    }\n\n    .dataframe thead th {\n        text-align: right;\n    }\n</style>\n<table border=\"1\" class=\"dataframe\">\n  <thead>\n    <tr style=\"text-align: right;\">\n      <th></th>\n      <th>datetime</th>\n      <th>main_weather</th>\n      <th>description_weather</th>\n      <th>icon_weather</th>\n    </tr>\n  </thead>\n  <tbody>\n    <tr>\n      <th>missing_ratio</th>\n      <td>0.0</td>\n      <td>0.0</td>\n      <td>0.0</td>\n      <td>0.0</td>\n    </tr>\n    <tr>\n      <th>num_values</th>\n      <td>8712</td>\n      <td>7</td>\n      <td>19</td>\n      <td>16</td>\n    </tr>\n    <tr>\n      <th>value_ratios</th>\n      <td>{2022-12-09 17:00:00: 0.01147842056932966, 202...</td>\n      <td>{'Clouds': 85.43388429752066, 'Rain': 9.779614...</td>\n      <td>{'scattered clouds': 41.976584022038566, 'brok...</td>\n      <td>{'03n': 22.302571166207528, '03d': 19.67401285...</td>\n    </tr>\n  </tbody>\n</table>\n</div>"
>>>>>>> Stashed changes
     },
     "execution_count": 42,
     "metadata": {},
     "output_type": "execute_result"
    }
   ],
   "source": [
    "non_numeric_columns = raw_df.select_dtypes(exclude=['float64']).columns\n",
    "\n",
    "cat_col_info = {}\n",
    "for col in non_numeric_columns:\n",
    "    missing_ratio = raw_df[col].isnull().mean() * 100\n",
    "\n",
    "    num_values = raw_df[col].nunique()\n",
    "\n",
    "    value_counts = raw_df[col].value_counts(normalize=True) * 100\n",
    "    value_ratios = value_counts.to_dict()\n",
    "\n",
    "    cat_col_info[col] = [missing_ratio, num_values, value_ratios]\n",
    "\n",
    "cat_col_info_df = pd.DataFrame(cat_col_info, index=[\"missing_ratio\", \"num_values\", \"value_ratios\"])\n",
    "\n",
    "cat_col_info_df.loc['missing_ratio'] = cat_col_info_df.loc['missing_ratio'].apply(lambda x: round(x, 1) if isinstance(x, float) else x)\n",
    "\n",
    "cat_col_info_df"
   ]
  },
  {
   "cell_type": "markdown",
   "metadata": {},
   "source": [
    "### Is the collected data reasonable?"
   ]
  },
  {
   "cell_type": "code",
   "execution_count": 43,
   "metadata": {
    "ExecuteTime": {
     "end_time": "2023-12-14T14:02:10.050543700Z",
     "start_time": "2023-12-14T14:02:09.873136200Z"
    }
   },
   "outputs": [
    {
     "data": {
      "text/plain": "{'Temperature (0K-350K)': True,\n 'Pressure (300hPa-1100hPa)': True,\n 'Humidity (0%-100%)': True,\n 'Wind Speed (>=0 m/s)': True,\n 'Wind Degree (0°-360°)': True,\n 'Cloudiness (0%-100%)': True}"
     },
     "execution_count": 43,
     "metadata": {},
     "output_type": "execute_result"
    }
   ],
   "source": [
    "# Range and Value Checks for Numeric Columns\n",
    "# Example ranges:\n",
    "# Temperature in Kelvin (0K is absolute zero, upper limit is less defined but should be reasonable)\n",
    "# Atmospheric pressure in hPa (typical range: 300 to 1100)\n",
    "# Humidity in % (0 to 100)\n",
    "# Wind speed in m/s (no upper limit, but excessively high values may be suspect)\n",
    "# Wind degree (0 to 360)\n",
    "# Cloudiness in % (0 to 100)\n",
    "\n",
    "temp_range_check = raw_df['temp (K)'].between(0, 350).all()\n",
    "pressure_range_check = raw_df['pressure'].between(300, 1100).all()\n",
    "humidity_range_check = raw_df['humidity'].between(0, 100).all()\n",
    "wind_speed_range_check = raw_df['wind_speed'] >= 0\n",
    "wind_deg_range_check = raw_df['wind_deg'].between(0, 360).all()\n",
    "clouds_all_range_check = raw_df['clouds_all'].between(0, 100).all()\n",
    "\n",
    "# Results\n",
    "range_check_results = {\n",
    "    'Temperature (0K-350K)': temp_range_check,\n",
    "    'Pressure (300hPa-1100hPa)': pressure_range_check,\n",
    "    'Humidity (0%-100%)': humidity_range_check,\n",
    "    'Wind Speed (>=0 m/s)': wind_speed_range_check.all(),\n",
    "    'Wind Degree (0°-360°)': wind_deg_range_check,\n",
    "    'Cloudiness (0%-100%)': clouds_all_range_check\n",
    "}\n",
    "\n",
    "range_check_results"
   ]
  },
  {
   "cell_type": "markdown",
   "metadata": {},
   "source": [
    "### Saving"
   ]
  },
  {
   "cell_type": "code",
   "execution_count": 44,
   "metadata": {
    "ExecuteTime": {
     "end_time": "2023-12-14T14:02:10.050543700Z",
     "start_time": "2023-12-14T14:02:09.888085600Z"
    }
   },
   "outputs": [
    {
     "name": "stdout",
     "output_type": "stream",
     "text": [
      "Total number of features: 14\n"
     ]
    },
    {
     "data": {
      "text/plain": "datetime               datetime64[ns]\ntemp (K)                      float64\nfeels_like                    float64\npressure                      float64\nhumidity                      float64\ntemp_min                      float64\ntemp_max                      float64\nwind_speed                    float64\nwind_deg                      float64\nclouds_all                    float64\nid_weather                    float64\nmain_weather                   object\ndescription_weather            object\nicon_weather                   object\ndtype: object"
     },
     "execution_count": 44,
     "metadata": {},
     "output_type": "execute_result"
    }
   ],
   "source": [
    "print(f\"Total number of features: {raw_df.shape[1]}\")\n",
    "raw_df.dtypes"
   ]
  },
  {
   "cell_type": "code",
   "execution_count": 45,
   "metadata": {
    "ExecuteTime": {
     "end_time": "2023-12-14T14:02:10.109345700Z",
     "start_time": "2023-12-14T14:02:09.904034100Z"
    }
   },
   "outputs": [],
   "source": [
    "raw_df.to_csv(\"../data/processed/processed_data.csv\", index=False)"
   ]
  }
 ],
 "metadata": {
  "kernelspec": {
   "display_name": "min_ds-env",
   "language": "python",
   "name": "python3"
  },
  "language_info": {
   "codemirror_mode": {
    "name": "ipython",
    "version": 3
   },
   "file_extension": ".py",
   "mimetype": "text/x-python",
   "name": "python",
   "nbconvert_exporter": "python",
   "pygments_lexer": "ipython3",
   "version": "3.9.18"
  }
 },
 "nbformat": 4,
 "nbformat_minor": 2
}
