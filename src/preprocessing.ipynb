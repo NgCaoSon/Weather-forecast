{
 "cells": [
  {
   "cell_type": "markdown",
   "metadata": {},
   "source": [
    "## Import"
   ]
  },
  {
   "cell_type": "code",
   "execution_count": 1,
   "metadata": {
    "ExecuteTime": {
     "end_time": "2023-12-14T15:50:05.643277900Z",
     "start_time": "2023-12-14T15:50:05.576501100Z"
    }
   },
   "outputs": [],
   "source": [
    "import os\n",
    "import sys\n",
    "\n",
    "module_path = os.path.abspath(os.path.join('..'))\n",
    "if module_path not in sys.path:\n",
    "    sys.path.append(module_path)\n",
    "\n",
    "import pandas as pd\n",
    "import matplotlib.pyplot as plt\n",
    "import seaborn as sns\n",
    "\n",
    "import warnings\n",
    "\n",
    "# Suppress future warnings\n",
    "warnings.simplefilter(action='ignore', category=FutureWarning)"
   ]
  },
  {
   "cell_type": "markdown",
   "metadata": {},
   "source": [
    "## Exploring your data"
   ]
  },
  {
   "cell_type": "markdown",
   "metadata": {},
   "source": [
    "### Read raw data from file"
   ]
  },
  {
   "cell_type": "code",
   "execution_count": 2,
   "metadata": {
    "ExecuteTime": {
     "end_time": "2023-12-14T15:50:05.796764600Z",
     "start_time": "2023-12-14T15:50:05.586468700Z"
    }
   },
   "outputs": [
    {
     "data": {
      "text/html": [
       "<div>\n",
       "<style scoped>\n",
       "    .dataframe tbody tr th:only-of-type {\n",
       "        vertical-align: middle;\n",
       "    }\n",
       "\n",
       "    .dataframe tbody tr th {\n",
       "        vertical-align: top;\n",
       "    }\n",
       "\n",
       "    .dataframe thead th {\n",
       "        text-align: right;\n",
       "    }\n",
       "</style>\n",
       "<table border=\"1\" class=\"dataframe\">\n",
       "  <thead>\n",
       "    <tr style=\"text-align: right;\">\n",
       "      <th></th>\n",
       "      <th>datetime</th>\n",
       "      <th>temp (K)</th>\n",
       "      <th>feels_like</th>\n",
       "      <th>pressure</th>\n",
       "      <th>humidity</th>\n",
       "      <th>temp_min</th>\n",
       "      <th>temp_max</th>\n",
       "      <th>wind_speed</th>\n",
       "      <th>wind_deg</th>\n",
       "      <th>clouds_all</th>\n",
       "      <th>id_weather</th>\n",
       "      <th>main_weather</th>\n",
       "      <th>description_weather</th>\n",
       "      <th>icon_weather</th>\n",
       "      <th>rain_1h</th>\n",
       "      <th>wind_gust</th>\n",
       "    </tr>\n",
       "  </thead>\n",
       "  <tbody>\n",
       "    <tr>\n",
       "      <th>0</th>\n",
       "      <td>1671037200</td>\n",
       "      <td>298.16</td>\n",
       "      <td>298.62</td>\n",
       "      <td>1011</td>\n",
       "      <td>73</td>\n",
       "      <td>298.16</td>\n",
       "      <td>298.16</td>\n",
       "      <td>3.09</td>\n",
       "      <td>60</td>\n",
       "      <td>20</td>\n",
       "      <td>801</td>\n",
       "      <td>Clouds</td>\n",
       "      <td>few clouds</td>\n",
       "      <td>02n</td>\n",
       "      <td>NaN</td>\n",
       "      <td>NaN</td>\n",
       "    </tr>\n",
       "    <tr>\n",
       "      <th>1</th>\n",
       "      <td>1671040800</td>\n",
       "      <td>298.16</td>\n",
       "      <td>298.62</td>\n",
       "      <td>1010</td>\n",
       "      <td>73</td>\n",
       "      <td>298.16</td>\n",
       "      <td>298.16</td>\n",
       "      <td>2.06</td>\n",
       "      <td>30</td>\n",
       "      <td>40</td>\n",
       "      <td>802</td>\n",
       "      <td>Clouds</td>\n",
       "      <td>scattered clouds</td>\n",
       "      <td>03n</td>\n",
       "      <td>NaN</td>\n",
       "      <td>NaN</td>\n",
       "    </tr>\n",
       "    <tr>\n",
       "      <th>2</th>\n",
       "      <td>1671044400</td>\n",
       "      <td>297.16</td>\n",
       "      <td>297.78</td>\n",
       "      <td>1010</td>\n",
       "      <td>83</td>\n",
       "      <td>297.16</td>\n",
       "      <td>297.16</td>\n",
       "      <td>1.54</td>\n",
       "      <td>20</td>\n",
       "      <td>40</td>\n",
       "      <td>802</td>\n",
       "      <td>Clouds</td>\n",
       "      <td>scattered clouds</td>\n",
       "      <td>03n</td>\n",
       "      <td>NaN</td>\n",
       "      <td>NaN</td>\n",
       "    </tr>\n",
       "    <tr>\n",
       "      <th>3</th>\n",
       "      <td>1671048000</td>\n",
       "      <td>296.16</td>\n",
       "      <td>296.81</td>\n",
       "      <td>1009</td>\n",
       "      <td>88</td>\n",
       "      <td>296.16</td>\n",
       "      <td>296.16</td>\n",
       "      <td>1.54</td>\n",
       "      <td>320</td>\n",
       "      <td>40</td>\n",
       "      <td>802</td>\n",
       "      <td>Clouds</td>\n",
       "      <td>scattered clouds</td>\n",
       "      <td>03n</td>\n",
       "      <td>NaN</td>\n",
       "      <td>NaN</td>\n",
       "    </tr>\n",
       "    <tr>\n",
       "      <th>4</th>\n",
       "      <td>1671051600</td>\n",
       "      <td>296.16</td>\n",
       "      <td>296.81</td>\n",
       "      <td>1009</td>\n",
       "      <td>88</td>\n",
       "      <td>296.16</td>\n",
       "      <td>296.16</td>\n",
       "      <td>1.03</td>\n",
       "      <td>320</td>\n",
       "      <td>40</td>\n",
       "      <td>802</td>\n",
       "      <td>Clouds</td>\n",
       "      <td>scattered clouds</td>\n",
       "      <td>03n</td>\n",
       "      <td>NaN</td>\n",
       "      <td>NaN</td>\n",
       "    </tr>\n",
       "  </tbody>\n",
       "</table>\n",
       "</div>"
      ],
      "text/plain": [
       "     datetime  temp (K)  feels_like  pressure  humidity  temp_min  temp_max  \\\n",
       "0  1671037200    298.16      298.62      1011        73    298.16    298.16   \n",
       "1  1671040800    298.16      298.62      1010        73    298.16    298.16   \n",
       "2  1671044400    297.16      297.78      1010        83    297.16    297.16   \n",
       "3  1671048000    296.16      296.81      1009        88    296.16    296.16   \n",
       "4  1671051600    296.16      296.81      1009        88    296.16    296.16   \n",
       "\n",
       "   wind_speed  wind_deg  clouds_all  id_weather main_weather  \\\n",
       "0        3.09        60          20         801       Clouds   \n",
       "1        2.06        30          40         802       Clouds   \n",
       "2        1.54        20          40         802       Clouds   \n",
       "3        1.54       320          40         802       Clouds   \n",
       "4        1.03       320          40         802       Clouds   \n",
       "\n",
       "  description_weather icon_weather  rain_1h  wind_gust  \n",
       "0          few clouds          02n      NaN        NaN  \n",
       "1    scattered clouds          03n      NaN        NaN  \n",
       "2    scattered clouds          03n      NaN        NaN  \n",
       "3    scattered clouds          03n      NaN        NaN  \n",
       "4    scattered clouds          03n      NaN        NaN  "
      ]
     },
     "execution_count": 2,
     "metadata": {},
     "output_type": "execute_result"
    }
   ],
   "source": [
    "raw_df = pd.read_csv(\"../data/crawl/raw_data.csv\")\n",
    "raw_df.head()"
   ]
  },
  {
   "cell_type": "markdown",
   "metadata": {},
   "source": [
    "### Checking shape\n",
    "\n",
    "Checking whenever the data is qualified or not"
   ]
  },
  {
   "cell_type": "code",
   "execution_count": 3,
   "metadata": {
    "ExecuteTime": {
     "end_time": "2023-12-14T15:50:05.799759Z",
     "start_time": "2023-12-14T15:50:05.632319900Z"
    }
   },
   "outputs": [],
   "source": [
    "shape = raw_df.shape"
   ]
  },
  {
   "cell_type": "code",
   "execution_count": 4,
   "metadata": {
    "ExecuteTime": {
     "end_time": "2023-12-14T15:50:05.799759Z",
     "start_time": "2023-12-14T15:50:05.646268100Z"
    }
   },
   "outputs": [
    {
     "name": "stdout",
     "output_type": "stream",
     "text": [
      "Shape: (8712, 16)\n",
      "Data is qualified.\n"
     ]
    }
   ],
   "source": [
    "print(f\"Shape: {shape}\")\n",
    "\n",
    "if shape[0] > 1000:\n",
    "    print(f\"Data is qualified.\")\n",
    "else:\n",
    "    print(f\"Data isn't qualified\")"
   ]
  },
  {
   "cell_type": "markdown",
   "metadata": {},
   "source": [
    "### Dealing with duplicates"
   ]
  },
  {
   "cell_type": "code",
   "execution_count": 5,
   "metadata": {
    "ExecuteTime": {
     "end_time": "2023-12-14T15:50:05.801748Z",
     "start_time": "2023-12-14T15:50:05.662219700Z"
    }
   },
   "outputs": [],
   "source": [
    "num_duplicated_rows = raw_df.duplicated(keep='first').sum()"
   ]
  },
  {
   "cell_type": "code",
   "execution_count": 6,
   "metadata": {
    "ExecuteTime": {
     "end_time": "2023-12-14T15:50:05.802745800Z",
     "start_time": "2023-12-14T15:50:05.678162Z"
    }
   },
   "outputs": [
    {
     "name": "stdout",
     "output_type": "stream",
     "text": [
      "No duplicated lines.\n"
     ]
    }
   ],
   "source": [
    "if num_duplicated_rows == 0:\n",
    "    print(f\"No duplicated lines.\")\n",
    "else:\n",
    "    ext = \"lines\" if num_duplicated_rows > 1 else \"line\"\n",
    "    print(f\"{num_duplicated_rows} duplicated {ext}. De-deduplicating the raw data.\")"
   ]
  },
  {
   "cell_type": "code",
   "execution_count": 7,
   "metadata": {
    "ExecuteTime": {
     "end_time": "2023-12-14T15:50:05.802745800Z",
     "start_time": "2023-12-14T15:50:05.695106400Z"
    }
   },
   "outputs": [],
   "source": [
    "# De-deduplicate\n",
    "raw_df = raw_df.drop_duplicates(keep='first')\n",
    "post_deduplication_count = raw_df.duplicated(keep='first').sum()\n",
    "assert post_deduplication_count == 0, \"Still have duplicated rows after de-duplication.\""
   ]
  },
  {
   "cell_type": "code",
   "execution_count": 8,
   "metadata": {
    "ExecuteTime": {
     "end_time": "2023-12-14T15:50:05.802745800Z",
     "start_time": "2023-12-14T15:50:05.710054700Z"
    },
    "collapsed": false
   },
   "outputs": [
    {
     "data": {
      "text/plain": [
       "(datetime                  0\n",
       " temp (K)                  0\n",
       " feels_like                0\n",
       " pressure                  0\n",
       " humidity                  0\n",
       " temp_min                  0\n",
       " temp_max                  0\n",
       " wind_speed                0\n",
       " wind_deg                  0\n",
       " clouds_all                0\n",
       " id_weather                0\n",
       " main_weather              0\n",
       " description_weather       0\n",
       " icon_weather              0\n",
       " rain_1h                7782\n",
       " wind_gust              8597\n",
       " dtype: int64,\n",
       " datetime               datetime64[ns]\n",
       " temp (K)                      float64\n",
       " feels_like                    float64\n",
       " pressure                        int64\n",
       " humidity                        int64\n",
       " temp_min                      float64\n",
       " temp_max                      float64\n",
       " wind_speed                    float64\n",
       " wind_deg                        int64\n",
       " clouds_all                      int64\n",
       " id_weather                      int64\n",
       " main_weather                   object\n",
       " description_weather            object\n",
       " icon_weather                   object\n",
       " rain_1h                       float64\n",
       " wind_gust                     float64\n",
       " dtype: object)"
      ]
     },
     "execution_count": 8,
     "metadata": {},
     "output_type": "execute_result"
    }
   ],
   "source": [
    "# Converting 'datetime' from Unix timestamp to readable datetime format\n",
    "raw_df['datetime'] = pd.to_datetime(raw_df['datetime'], unit='s')\n",
    "\n",
    "\n",
    "\n",
    "missing_values = raw_df.isnull().sum()\n",
    "\n",
    "data_types = raw_df.dtypes\n",
    "\n",
    "missing_values, data_types"
   ]
  },
  {
   "cell_type": "markdown",
   "metadata": {
    "collapsed": false
   },
   "source": [
    "### Checking distribution\n",
    "\n",
    "This step helps to understand the Data, detecting outliers, data cleaning and also Model Selection and Performance"
   ]
  },
  {
   "cell_type": "markdown",
   "metadata": {},
   "source": [
    "For columns with numeric data types:\n",
    "- Percentage (from 0 to 100) of missing values\n",
    "- The min\n",
    "- The lower quartile (phân vị 25)\n",
    "- The median (phân vị 50)\n",
    "- The upper quartile (phân vị 75)\n",
    "- The max\n",
    "\n",
    "For viewing, using `.round(1)`."
   ]
  },
  {
   "cell_type": "code",
   "execution_count": 9,
   "metadata": {
    "ExecuteTime": {
     "end_time": "2023-12-14T15:50:05.803741900Z",
     "start_time": "2023-12-14T15:50:05.725004900Z"
    }
   },
   "outputs": [],
   "source": [
    "def numeric_column_info(df: pd.DataFrame) -> pd.DataFrame:\n",
    "    numeric_columns = df.select_dtypes(include=['float64', 'int64']).columns\n",
    "\n",
    "    num_col_info = {}\n",
    "    for col in numeric_columns:\n",
    "        num_col_info[col] = [\n",
    "            df[col].isnull().mean() * 100,  # Missing ratio\n",
    "            df[col].min(),                  # Min\n",
    "            df[col].quantile(0.25),         # Lower quartile\n",
    "            df[col].median(),               # Median\n",
    "            df[col].quantile(0.75),         # Upper quartile\n",
    "            df[col].max()                   # Max\n",
    "        ]\n",
    "\n",
    "    # Creating the DataFrame\n",
    "    num_col_info_df = pd.DataFrame(num_col_info, index=[\"missing_ratio\", \"min\", \"lower_quartile\", \"median\", \"upper_quartile\", \"max\"])\n",
    "\n",
    "    # Rounding values to 1 decimal place\n",
    "    num_col_info_df = num_col_info_df.round(1)\n",
    "\n",
    "    return num_col_info_df"
   ]
  },
  {
   "cell_type": "code",
   "execution_count": 10,
   "metadata": {
    "ExecuteTime": {
     "end_time": "2023-12-14T15:50:05.804739300Z",
     "start_time": "2023-12-14T15:50:05.739956100Z"
    },
    "collapsed": false
   },
   "outputs": [
    {
     "data": {
      "text/html": [
       "<div>\n",
       "<style scoped>\n",
       "    .dataframe tbody tr th:only-of-type {\n",
       "        vertical-align: middle;\n",
       "    }\n",
       "\n",
       "    .dataframe tbody tr th {\n",
       "        vertical-align: top;\n",
       "    }\n",
       "\n",
       "    .dataframe thead th {\n",
       "        text-align: right;\n",
       "    }\n",
       "</style>\n",
       "<table border=\"1\" class=\"dataframe\">\n",
       "  <thead>\n",
       "    <tr style=\"text-align: right;\">\n",
       "      <th></th>\n",
       "      <th>temp (K)</th>\n",
       "      <th>feels_like</th>\n",
       "      <th>pressure</th>\n",
       "      <th>humidity</th>\n",
       "      <th>temp_min</th>\n",
       "      <th>temp_max</th>\n",
       "      <th>wind_speed</th>\n",
       "      <th>wind_deg</th>\n",
       "      <th>clouds_all</th>\n",
       "      <th>id_weather</th>\n",
       "      <th>rain_1h</th>\n",
       "      <th>wind_gust</th>\n",
       "    </tr>\n",
       "  </thead>\n",
       "  <tbody>\n",
       "    <tr>\n",
       "      <th>missing_ratio</th>\n",
       "      <td>0.0</td>\n",
       "      <td>0.0</td>\n",
       "      <td>0.0</td>\n",
       "      <td>0.0</td>\n",
       "      <td>0.0</td>\n",
       "      <td>0.0</td>\n",
       "      <td>0.0</td>\n",
       "      <td>0.0</td>\n",
       "      <td>0.0</td>\n",
       "      <td>0.0</td>\n",
       "      <td>89.3</td>\n",
       "      <td>98.7</td>\n",
       "    </tr>\n",
       "    <tr>\n",
       "      <th>min</th>\n",
       "      <td>292.2</td>\n",
       "      <td>292.4</td>\n",
       "      <td>1001.0</td>\n",
       "      <td>14.0</td>\n",
       "      <td>292.2</td>\n",
       "      <td>292.2</td>\n",
       "      <td>0.0</td>\n",
       "      <td>0.0</td>\n",
       "      <td>0.0</td>\n",
       "      <td>200.0</td>\n",
       "      <td>0.1</td>\n",
       "      <td>1.9</td>\n",
       "    </tr>\n",
       "    <tr>\n",
       "      <th>lower_quartile</th>\n",
       "      <td>299.2</td>\n",
       "      <td>299.3</td>\n",
       "      <td>1008.0</td>\n",
       "      <td>69.0</td>\n",
       "      <td>299.2</td>\n",
       "      <td>299.2</td>\n",
       "      <td>1.5</td>\n",
       "      <td>10.0</td>\n",
       "      <td>40.0</td>\n",
       "      <td>801.0</td>\n",
       "      <td>0.2</td>\n",
       "      <td>5.3</td>\n",
       "    </tr>\n",
       "    <tr>\n",
       "      <th>median</th>\n",
       "      <td>301.2</td>\n",
       "      <td>305.9</td>\n",
       "      <td>1010.0</td>\n",
       "      <td>84.0</td>\n",
       "      <td>301.2</td>\n",
       "      <td>301.2</td>\n",
       "      <td>2.6</td>\n",
       "      <td>160.0</td>\n",
       "      <td>40.0</td>\n",
       "      <td>802.0</td>\n",
       "      <td>0.8</td>\n",
       "      <td>9.8</td>\n",
       "    </tr>\n",
       "    <tr>\n",
       "      <th>upper_quartile</th>\n",
       "      <td>304.2</td>\n",
       "      <td>309.6</td>\n",
       "      <td>1011.0</td>\n",
       "      <td>94.0</td>\n",
       "      <td>304.2</td>\n",
       "      <td>304.2</td>\n",
       "      <td>4.1</td>\n",
       "      <td>250.0</td>\n",
       "      <td>75.0</td>\n",
       "      <td>802.0</td>\n",
       "      <td>2.3</td>\n",
       "      <td>12.9</td>\n",
       "    </tr>\n",
       "    <tr>\n",
       "      <th>max</th>\n",
       "      <td>311.2</td>\n",
       "      <td>317.2</td>\n",
       "      <td>1018.0</td>\n",
       "      <td>100.0</td>\n",
       "      <td>311.2</td>\n",
       "      <td>311.2</td>\n",
       "      <td>11.3</td>\n",
       "      <td>360.0</td>\n",
       "      <td>100.0</td>\n",
       "      <td>804.0</td>\n",
       "      <td>36.5</td>\n",
       "      <td>20.6</td>\n",
       "    </tr>\n",
       "  </tbody>\n",
       "</table>\n",
       "</div>"
      ],
      "text/plain": [
       "                temp (K)  feels_like  pressure  humidity  temp_min  temp_max  \\\n",
       "missing_ratio        0.0         0.0       0.0       0.0       0.0       0.0   \n",
       "min                292.2       292.4    1001.0      14.0     292.2     292.2   \n",
       "lower_quartile     299.2       299.3    1008.0      69.0     299.2     299.2   \n",
       "median             301.2       305.9    1010.0      84.0     301.2     301.2   \n",
       "upper_quartile     304.2       309.6    1011.0      94.0     304.2     304.2   \n",
       "max                311.2       317.2    1018.0     100.0     311.2     311.2   \n",
       "\n",
       "                wind_speed  wind_deg  clouds_all  id_weather  rain_1h  \\\n",
       "missing_ratio          0.0       0.0         0.0         0.0     89.3   \n",
       "min                    0.0       0.0         0.0       200.0      0.1   \n",
       "lower_quartile         1.5      10.0        40.0       801.0      0.2   \n",
       "median                 2.6     160.0        40.0       802.0      0.8   \n",
       "upper_quartile         4.1     250.0        75.0       802.0      2.3   \n",
       "max                   11.3     360.0       100.0       804.0     36.5   \n",
       "\n",
       "                wind_gust  \n",
       "missing_ratio        98.7  \n",
       "min                   1.9  \n",
       "lower_quartile        5.3  \n",
       "median                9.8  \n",
       "upper_quartile       12.9  \n",
       "max                  20.6  "
      ]
     },
     "execution_count": 10,
     "metadata": {},
     "output_type": "execute_result"
    }
   ],
   "source": [
    "num_col_info_df = numeric_column_info(raw_df)\n",
    "\n",
    "num_col_info_df.head()"
   ]
  },
  {
   "cell_type": "code",
   "execution_count": 12,
   "metadata": {
    "ExecuteTime": {
     "end_time": "2023-12-14T15:50:07.737533200Z",
     "start_time": "2023-12-14T15:50:07.423353800Z"
    }
   },
   "outputs": [],
   "source": [
    "def drop_missing_features(df: pd.DataFrame, missing_lst=None, threshold: float = 75.0) -> pd.DataFrame:\n",
    "\n",
    "    if (df is None) or (missing_lst is None) or (threshold is None):\n",
    "        print(f\"Invalid.\")\n",
    "        raise ValueError\n",
    "    \n",
    "    df_cp = df.copy()\n",
    "    \n",
    "    cols_to_trim = []\n",
    "    \n",
    "    for key, value in missing_lst.items():\n",
    "        if float(value) > threshold:\n",
    "            cols_to_trim.append(key)\n",
    "            \n",
    "    if len(cols_to_trim) > 0:\n",
    "        df_cp = df_cp.drop(columns=cols_to_trim)\n",
    "        print(\"Dropped column(s): \" + \" \".join(cols_to_trim))\n",
    "    else:\n",
    "        print(\"Have no column(s) to trim.\")\n",
    "        \n",
    "    return df_cp"
   ]
  },
  {
   "cell_type": "code",
   "execution_count": 13,
   "metadata": {
    "ExecuteTime": {
     "end_time": "2023-12-14T15:50:07.737533200Z",
     "start_time": "2023-12-14T15:50:07.433319500Z"
    }
   },
   "outputs": [
    {
     "name": "stdout",
     "output_type": "stream",
     "text": [
      "Dropped column(s): rain_1h wind_gust\n"
     ]
    }
   ],
   "source": [
    "raw_df = drop_missing_features(raw_df, dict(num_col_info_df.iloc[0]))\n",
    "# Drop columns with no dates\n",
    "raw_df.dropna(subset=['datetime'], inplace=True)"
   ]
  },
  {
   "cell_type": "code",
   "execution_count": 14,
   "metadata": {
    "ExecuteTime": {
     "end_time": "2023-12-14T15:50:07.738530700Z",
     "start_time": "2023-12-14T15:50:07.450262500Z"
    }
   },
   "outputs": [
    {
     "data": {
      "text/html": [
       "<div>\n",
       "<style scoped>\n",
       "    .dataframe tbody tr th:only-of-type {\n",
       "        vertical-align: middle;\n",
       "    }\n",
       "\n",
       "    .dataframe tbody tr th {\n",
       "        vertical-align: top;\n",
       "    }\n",
       "\n",
       "    .dataframe thead th {\n",
       "        text-align: right;\n",
       "    }\n",
       "</style>\n",
       "<table border=\"1\" class=\"dataframe\">\n",
       "  <thead>\n",
       "    <tr style=\"text-align: right;\">\n",
       "      <th></th>\n",
       "      <th>datetime</th>\n",
       "      <th>temp (K)</th>\n",
       "      <th>feels_like</th>\n",
       "      <th>pressure</th>\n",
       "      <th>humidity</th>\n",
       "      <th>temp_min</th>\n",
       "      <th>temp_max</th>\n",
       "      <th>wind_speed</th>\n",
       "      <th>wind_deg</th>\n",
       "      <th>clouds_all</th>\n",
       "      <th>id_weather</th>\n",
       "      <th>main_weather</th>\n",
       "      <th>description_weather</th>\n",
       "      <th>icon_weather</th>\n",
       "    </tr>\n",
       "  </thead>\n",
       "  <tbody>\n",
       "    <tr>\n",
       "      <th>0</th>\n",
       "      <td>2022-12-14 17:00:00</td>\n",
       "      <td>298.16</td>\n",
       "      <td>298.62</td>\n",
       "      <td>1011</td>\n",
       "      <td>73</td>\n",
       "      <td>298.16</td>\n",
       "      <td>298.16</td>\n",
       "      <td>3.09</td>\n",
       "      <td>60</td>\n",
       "      <td>20</td>\n",
       "      <td>801</td>\n",
       "      <td>Clouds</td>\n",
       "      <td>few clouds</td>\n",
       "      <td>02n</td>\n",
       "    </tr>\n",
       "    <tr>\n",
       "      <th>1</th>\n",
       "      <td>2022-12-14 18:00:00</td>\n",
       "      <td>298.16</td>\n",
       "      <td>298.62</td>\n",
       "      <td>1010</td>\n",
       "      <td>73</td>\n",
       "      <td>298.16</td>\n",
       "      <td>298.16</td>\n",
       "      <td>2.06</td>\n",
       "      <td>30</td>\n",
       "      <td>40</td>\n",
       "      <td>802</td>\n",
       "      <td>Clouds</td>\n",
       "      <td>scattered clouds</td>\n",
       "      <td>03n</td>\n",
       "    </tr>\n",
       "    <tr>\n",
       "      <th>2</th>\n",
       "      <td>2022-12-14 19:00:00</td>\n",
       "      <td>297.16</td>\n",
       "      <td>297.78</td>\n",
       "      <td>1010</td>\n",
       "      <td>83</td>\n",
       "      <td>297.16</td>\n",
       "      <td>297.16</td>\n",
       "      <td>1.54</td>\n",
       "      <td>20</td>\n",
       "      <td>40</td>\n",
       "      <td>802</td>\n",
       "      <td>Clouds</td>\n",
       "      <td>scattered clouds</td>\n",
       "      <td>03n</td>\n",
       "    </tr>\n",
       "    <tr>\n",
       "      <th>3</th>\n",
       "      <td>2022-12-14 20:00:00</td>\n",
       "      <td>296.16</td>\n",
       "      <td>296.81</td>\n",
       "      <td>1009</td>\n",
       "      <td>88</td>\n",
       "      <td>296.16</td>\n",
       "      <td>296.16</td>\n",
       "      <td>1.54</td>\n",
       "      <td>320</td>\n",
       "      <td>40</td>\n",
       "      <td>802</td>\n",
       "      <td>Clouds</td>\n",
       "      <td>scattered clouds</td>\n",
       "      <td>03n</td>\n",
       "    </tr>\n",
       "    <tr>\n",
       "      <th>4</th>\n",
       "      <td>2022-12-14 21:00:00</td>\n",
       "      <td>296.16</td>\n",
       "      <td>296.81</td>\n",
       "      <td>1009</td>\n",
       "      <td>88</td>\n",
       "      <td>296.16</td>\n",
       "      <td>296.16</td>\n",
       "      <td>1.03</td>\n",
       "      <td>320</td>\n",
       "      <td>40</td>\n",
       "      <td>802</td>\n",
       "      <td>Clouds</td>\n",
       "      <td>scattered clouds</td>\n",
       "      <td>03n</td>\n",
       "    </tr>\n",
       "  </tbody>\n",
       "</table>\n",
       "</div>"
      ],
      "text/plain": [
       "             datetime  temp (K)  feels_like  pressure  humidity  temp_min  \\\n",
       "0 2022-12-14 17:00:00    298.16      298.62      1011        73    298.16   \n",
       "1 2022-12-14 18:00:00    298.16      298.62      1010        73    298.16   \n",
       "2 2022-12-14 19:00:00    297.16      297.78      1010        83    297.16   \n",
       "3 2022-12-14 20:00:00    296.16      296.81      1009        88    296.16   \n",
       "4 2022-12-14 21:00:00    296.16      296.81      1009        88    296.16   \n",
       "\n",
       "   temp_max  wind_speed  wind_deg  clouds_all  id_weather main_weather  \\\n",
       "0    298.16        3.09        60          20         801       Clouds   \n",
       "1    298.16        2.06        30          40         802       Clouds   \n",
       "2    297.16        1.54        20          40         802       Clouds   \n",
       "3    296.16        1.54       320          40         802       Clouds   \n",
       "4    296.16        1.03       320          40         802       Clouds   \n",
       "\n",
       "  description_weather icon_weather  \n",
       "0          few clouds          02n  \n",
       "1    scattered clouds          03n  \n",
       "2    scattered clouds          03n  \n",
       "3    scattered clouds          03n  \n",
       "4    scattered clouds          03n  "
      ]
     },
     "execution_count": 14,
     "metadata": {},
     "output_type": "execute_result"
    }
   ],
   "source": [
    "raw_df.head()"
   ]
  },
  {
   "cell_type": "code",
   "execution_count": 15,
   "metadata": {
    "ExecuteTime": {
     "end_time": "2023-12-14T15:50:07.739527400Z",
     "start_time": "2023-12-14T15:50:07.480161700Z"
    }
   },
   "outputs": [
    {
     "data": {
      "text/html": [
       "<div>\n",
       "<style scoped>\n",
       "    .dataframe tbody tr th:only-of-type {\n",
       "        vertical-align: middle;\n",
       "    }\n",
       "\n",
       "    .dataframe tbody tr th {\n",
       "        vertical-align: top;\n",
       "    }\n",
       "\n",
       "    .dataframe thead th {\n",
       "        text-align: right;\n",
       "    }\n",
       "</style>\n",
       "<table border=\"1\" class=\"dataframe\">\n",
       "  <thead>\n",
       "    <tr style=\"text-align: right;\">\n",
       "      <th></th>\n",
       "      <th>temp (K)</th>\n",
       "      <th>feels_like</th>\n",
       "      <th>pressure</th>\n",
       "      <th>humidity</th>\n",
       "      <th>temp_min</th>\n",
       "      <th>temp_max</th>\n",
       "      <th>wind_speed</th>\n",
       "      <th>wind_deg</th>\n",
       "      <th>clouds_all</th>\n",
       "      <th>id_weather</th>\n",
       "    </tr>\n",
       "  </thead>\n",
       "  <tbody>\n",
       "    <tr>\n",
       "      <th>missing_ratio</th>\n",
       "      <td>0.0</td>\n",
       "      <td>0.0</td>\n",
       "      <td>0.0</td>\n",
       "      <td>0.0</td>\n",
       "      <td>0.0</td>\n",
       "      <td>0.0</td>\n",
       "      <td>0.0</td>\n",
       "      <td>0.0</td>\n",
       "      <td>0.0</td>\n",
       "      <td>0.0</td>\n",
       "    </tr>\n",
       "    <tr>\n",
       "      <th>min</th>\n",
       "      <td>292.2</td>\n",
       "      <td>292.4</td>\n",
       "      <td>1001.0</td>\n",
       "      <td>14.0</td>\n",
       "      <td>292.2</td>\n",
       "      <td>292.2</td>\n",
       "      <td>0.0</td>\n",
       "      <td>0.0</td>\n",
       "      <td>0.0</td>\n",
       "      <td>200.0</td>\n",
       "    </tr>\n",
       "    <tr>\n",
       "      <th>lower_quartile</th>\n",
       "      <td>299.2</td>\n",
       "      <td>299.3</td>\n",
       "      <td>1008.0</td>\n",
       "      <td>69.0</td>\n",
       "      <td>299.2</td>\n",
       "      <td>299.2</td>\n",
       "      <td>1.5</td>\n",
       "      <td>10.0</td>\n",
       "      <td>40.0</td>\n",
       "      <td>801.0</td>\n",
       "    </tr>\n",
       "    <tr>\n",
       "      <th>median</th>\n",
       "      <td>301.2</td>\n",
       "      <td>305.9</td>\n",
       "      <td>1010.0</td>\n",
       "      <td>84.0</td>\n",
       "      <td>301.2</td>\n",
       "      <td>301.2</td>\n",
       "      <td>2.6</td>\n",
       "      <td>160.0</td>\n",
       "      <td>40.0</td>\n",
       "      <td>802.0</td>\n",
       "    </tr>\n",
       "    <tr>\n",
       "      <th>upper_quartile</th>\n",
       "      <td>304.2</td>\n",
       "      <td>309.6</td>\n",
       "      <td>1011.0</td>\n",
       "      <td>94.0</td>\n",
       "      <td>304.2</td>\n",
       "      <td>304.2</td>\n",
       "      <td>4.1</td>\n",
       "      <td>250.0</td>\n",
       "      <td>75.0</td>\n",
       "      <td>802.0</td>\n",
       "    </tr>\n",
       "    <tr>\n",
       "      <th>max</th>\n",
       "      <td>311.2</td>\n",
       "      <td>317.2</td>\n",
       "      <td>1018.0</td>\n",
       "      <td>100.0</td>\n",
       "      <td>311.2</td>\n",
       "      <td>311.2</td>\n",
       "      <td>11.3</td>\n",
       "      <td>360.0</td>\n",
       "      <td>100.0</td>\n",
       "      <td>804.0</td>\n",
       "    </tr>\n",
       "  </tbody>\n",
       "</table>\n",
       "</div>"
      ],
      "text/plain": [
       "                temp (K)  feels_like  pressure  humidity  temp_min  temp_max  \\\n",
       "missing_ratio        0.0         0.0       0.0       0.0       0.0       0.0   \n",
       "min                292.2       292.4    1001.0      14.0     292.2     292.2   \n",
       "lower_quartile     299.2       299.3    1008.0      69.0     299.2     299.2   \n",
       "median             301.2       305.9    1010.0      84.0     301.2     301.2   \n",
       "upper_quartile     304.2       309.6    1011.0      94.0     304.2     304.2   \n",
       "max                311.2       317.2    1018.0     100.0     311.2     311.2   \n",
       "\n",
       "                wind_speed  wind_deg  clouds_all  id_weather  \n",
       "missing_ratio          0.0       0.0         0.0         0.0  \n",
       "min                    0.0       0.0         0.0       200.0  \n",
       "lower_quartile         1.5      10.0        40.0       801.0  \n",
       "median                 2.6     160.0        40.0       802.0  \n",
       "upper_quartile         4.1     250.0        75.0       802.0  \n",
       "max                   11.3     360.0       100.0       804.0  "
      ]
     },
     "execution_count": 15,
     "metadata": {},
     "output_type": "execute_result"
    }
   ],
   "source": [
    "num_col_info_df = numeric_column_info(raw_df)\n",
    "\n",
    "num_col_info_df"
   ]
  },
  {
   "cell_type": "markdown",
   "metadata": {
    "collapsed": false
   },
   "source": [
    "Skipping filling because there is no missing cells."
   ]
  },
  {
   "cell_type": "markdown",
   "metadata": {},
   "source": [
    "For columns with non-numeric data types:\n",
    "- Percentage (from 0 to 100) of missing values\n",
    "- Number of values (the values here are different values and we do not consider missing values)\n",
    "- The percentage (from 0 to 100) of each value is sorted by decreasing percentage (we do not consider missing values, the ratio is the ratio compared to the number of non-missing values)"
   ]
  },
  {
   "cell_type": "code",
   "execution_count": 16,
   "metadata": {
    "ExecuteTime": {
     "end_time": "2023-12-14T15:50:07.739527400Z",
     "start_time": "2023-12-14T15:50:07.513052100Z"
    }
   },
   "outputs": [
    {
     "data": {
      "text/html": [
       "<div>\n",
       "<style scoped>\n",
       "    .dataframe tbody tr th:only-of-type {\n",
       "        vertical-align: middle;\n",
       "    }\n",
       "\n",
       "    .dataframe tbody tr th {\n",
       "        vertical-align: top;\n",
       "    }\n",
       "\n",
       "    .dataframe thead th {\n",
       "        text-align: right;\n",
       "    }\n",
       "</style>\n",
       "<table border=\"1\" class=\"dataframe\">\n",
       "  <thead>\n",
       "    <tr style=\"text-align: right;\">\n",
       "      <th></th>\n",
       "      <th>datetime</th>\n",
       "      <th>pressure</th>\n",
       "      <th>humidity</th>\n",
       "      <th>wind_deg</th>\n",
       "      <th>clouds_all</th>\n",
       "      <th>id_weather</th>\n",
       "      <th>main_weather</th>\n",
       "      <th>description_weather</th>\n",
       "      <th>icon_weather</th>\n",
       "    </tr>\n",
       "  </thead>\n",
       "  <tbody>\n",
       "    <tr>\n",
       "      <th>missing_ratio</th>\n",
       "      <td>0.0</td>\n",
       "      <td>0.0</td>\n",
       "      <td>0.0</td>\n",
       "      <td>0.0</td>\n",
       "      <td>0.0</td>\n",
       "      <td>0.0</td>\n",
       "      <td>0.0</td>\n",
       "      <td>0.0</td>\n",
       "      <td>0.0</td>\n",
       "    </tr>\n",
       "    <tr>\n",
       "      <th>num_values</th>\n",
       "      <td>8712</td>\n",
       "      <td>18</td>\n",
       "      <td>63</td>\n",
       "      <td>74</td>\n",
       "      <td>64</td>\n",
       "      <td>19</td>\n",
       "      <td>7</td>\n",
       "      <td>19</td>\n",
       "      <td>16</td>\n",
       "    </tr>\n",
       "    <tr>\n",
       "      <th>value_ratios</th>\n",
       "      <td>{2022-12-14 17:00:00: 0.01147842056932966, 202...</td>\n",
       "      <td>{1010: 17.435720844811755, 1009: 17.3898071625...</td>\n",
       "      <td>{94: 18.721303948576676, 100: 14.8186409550045...</td>\n",
       "      <td>{0: 24.59825528007346, 250: 7.07070707070707, ...</td>\n",
       "      <td>{40: 47.176308539944905, 75: 26.54958677685950...</td>\n",
       "      <td>{802: 42.22910927456382, 803: 21.5220385674931...</td>\n",
       "      <td>{'Clouds': 85.2961432506887, 'Rain': 9.8025711...</td>\n",
       "      <td>{'scattered clouds': 42.22910927456382, 'broke...</td>\n",
       "      <td>{'03n': 22.55509641873278, '03d': 19.674012855...</td>\n",
       "    </tr>\n",
       "  </tbody>\n",
       "</table>\n",
       "</div>"
      ],
      "text/plain": [
       "                                                        datetime  \\\n",
       "missing_ratio                                                0.0   \n",
       "num_values                                                  8712   \n",
       "value_ratios   {2022-12-14 17:00:00: 0.01147842056932966, 202...   \n",
       "\n",
       "                                                        pressure  \\\n",
       "missing_ratio                                                0.0   \n",
       "num_values                                                    18   \n",
       "value_ratios   {1010: 17.435720844811755, 1009: 17.3898071625...   \n",
       "\n",
       "                                                        humidity  \\\n",
       "missing_ratio                                                0.0   \n",
       "num_values                                                    63   \n",
       "value_ratios   {94: 18.721303948576676, 100: 14.8186409550045...   \n",
       "\n",
       "                                                        wind_deg  \\\n",
       "missing_ratio                                                0.0   \n",
       "num_values                                                    74   \n",
       "value_ratios   {0: 24.59825528007346, 250: 7.07070707070707, ...   \n",
       "\n",
       "                                                      clouds_all  \\\n",
       "missing_ratio                                                0.0   \n",
       "num_values                                                    64   \n",
       "value_ratios   {40: 47.176308539944905, 75: 26.54958677685950...   \n",
       "\n",
       "                                                      id_weather  \\\n",
       "missing_ratio                                                0.0   \n",
       "num_values                                                    19   \n",
       "value_ratios   {802: 42.22910927456382, 803: 21.5220385674931...   \n",
       "\n",
       "                                                    main_weather  \\\n",
       "missing_ratio                                                0.0   \n",
       "num_values                                                     7   \n",
       "value_ratios   {'Clouds': 85.2961432506887, 'Rain': 9.8025711...   \n",
       "\n",
       "                                             description_weather  \\\n",
       "missing_ratio                                                0.0   \n",
       "num_values                                                    19   \n",
       "value_ratios   {'scattered clouds': 42.22910927456382, 'broke...   \n",
       "\n",
       "                                                    icon_weather  \n",
       "missing_ratio                                                0.0  \n",
       "num_values                                                    16  \n",
       "value_ratios   {'03n': 22.55509641873278, '03d': 19.674012855...  "
      ]
     },
     "execution_count": 16,
     "metadata": {},
     "output_type": "execute_result"
    }
   ],
   "source": [
    "non_numeric_columns = raw_df.select_dtypes(exclude=['float64']).columns\n",
    "\n",
    "cat_col_info = {}\n",
    "for col in non_numeric_columns:\n",
    "    missing_ratio = raw_df[col].isnull().mean() * 100\n",
    "\n",
    "    num_values = raw_df[col].nunique()\n",
    "\n",
    "    value_counts = raw_df[col].value_counts(normalize=True) * 100\n",
    "    value_ratios = value_counts.to_dict()\n",
    "\n",
    "    cat_col_info[col] = [missing_ratio, num_values, value_ratios]\n",
    "\n",
    "cat_col_info_df = pd.DataFrame(cat_col_info, index=[\"missing_ratio\", \"num_values\", \"value_ratios\"])\n",
    "\n",
    "cat_col_info_df.loc['missing_ratio'] = cat_col_info_df.loc['missing_ratio'].apply(lambda x: round(x, 1) if isinstance(x, float) else x)\n",
    "\n",
    "cat_col_info_df"
   ]
  },
  {
   "cell_type": "markdown",
   "metadata": {},
   "source": [
    "### Is the collected data reasonable?\n",
    "\n",
    "This step is just to check if the data is ok to use."
   ]
  },
  {
   "cell_type": "markdown",
   "metadata": {
    "collapsed": false
   },
   "source": [
    "Range and Value Checks for Numeric Columns\n",
    "Example ranges:\n",
    "Temperature in Kelvin (0K is absolute zero, upper limit is less defined but should be reasonable)\n",
    "Atmospheric pressure in hPa (typical range: 300 to 1100)\n",
    "Humidity in % (0 to 100)\n",
    "Wind speed in m/s (no upper limit, but excessively high values may be suspect)\n",
    "Wind degree (0 to 360)\n",
    "Cloudiness in % (0 to 100)"
   ]
  },
  {
   "cell_type": "code",
   "execution_count": 17,
   "metadata": {
    "ExecuteTime": {
     "end_time": "2023-12-14T15:50:07.740523600Z",
     "start_time": "2023-12-14T15:50:07.621689100Z"
    }
   },
   "outputs": [
    {
     "data": {
      "text/plain": [
       "{'Temperature (0K-350K)': True,\n",
       " 'Pressure (300hPa-1100hPa)': True,\n",
       " 'Humidity (0%-100%)': True,\n",
       " 'Wind Speed (>=0 m/s)': True,\n",
       " 'Wind Degree (0°-360°)': True,\n",
       " 'Cloudiness (0%-100%)': True}"
      ]
     },
     "execution_count": 17,
     "metadata": {},
     "output_type": "execute_result"
    }
   ],
   "source": [
    "temp_range_check = raw_df['temp (K)'].between(0, 350).all()\n",
    "pressure_range_check = raw_df['pressure'].between(300, 1100).all()\n",
    "humidity_range_check = raw_df['humidity'].between(0, 100).all()\n",
    "wind_speed_range_check = raw_df['wind_speed'] >= 0\n",
    "wind_deg_range_check = raw_df['wind_deg'].between(0, 360).all()\n",
    "clouds_all_range_check = raw_df['clouds_all'].between(0, 100).all()\n",
    "\n",
    "# Results\n",
    "range_check_results = {\n",
    "    'Temperature (0K-350K)': temp_range_check,\n",
    "    'Pressure (300hPa-1100hPa)': pressure_range_check,\n",
    "    'Humidity (0%-100%)': humidity_range_check,\n",
    "    'Wind Speed (>=0 m/s)': wind_speed_range_check.all(),\n",
    "    'Wind Degree (0°-360°)': wind_deg_range_check,\n",
    "    'Cloudiness (0%-100%)': clouds_all_range_check\n",
    "}\n",
    "\n",
    "range_check_results"
   ]
  },
  {
   "cell_type": "markdown",
   "metadata": {},
   "source": [
    "### Saving"
   ]
  },
  {
   "cell_type": "code",
   "execution_count": 18,
   "metadata": {
    "ExecuteTime": {
     "end_time": "2023-12-14T15:50:07.740523600Z",
     "start_time": "2023-12-14T15:50:07.637635300Z"
    }
   },
   "outputs": [
    {
     "name": "stdout",
     "output_type": "stream",
     "text": [
      "Total number of features: 14\n"
     ]
    },
    {
     "data": {
      "text/plain": [
       "datetime               datetime64[ns]\n",
       "temp (K)                      float64\n",
       "feels_like                    float64\n",
       "pressure                        int64\n",
       "humidity                        int64\n",
       "temp_min                      float64\n",
       "temp_max                      float64\n",
       "wind_speed                    float64\n",
       "wind_deg                        int64\n",
       "clouds_all                      int64\n",
       "id_weather                      int64\n",
       "main_weather                   object\n",
       "description_weather            object\n",
       "icon_weather                   object\n",
       "dtype: object"
      ]
     },
     "execution_count": 18,
     "metadata": {},
     "output_type": "execute_result"
    }
   ],
   "source": [
    "print(f\"Total number of features: {raw_df.shape[1]}\")\n",
    "raw_df.dtypes"
   ]
  },
  {
   "cell_type": "code",
   "execution_count": 19,
   "metadata": {
    "ExecuteTime": {
     "end_time": "2023-12-14T15:50:07.741520400Z",
     "start_time": "2023-12-14T15:50:07.653582900Z"
    }
   },
   "outputs": [],
   "source": [
    "raw_df.to_csv(\"../data/processed/processed_data.csv\", index=False)"
   ]
  }
 ],
 "metadata": {
  "kernelspec": {
   "display_name": "Python 3 (ipykernel)",
   "language": "python",
   "name": "python3"
  },
  "language_info": {
   "codemirror_mode": {
    "name": "ipython",
    "version": 3
   },
   "file_extension": ".py",
   "mimetype": "text/x-python",
   "name": "python",
   "nbconvert_exporter": "python",
   "pygments_lexer": "ipython3",
   "version": "3.11.6"
  }
 },
 "nbformat": 4,
 "nbformat_minor": 4
}
