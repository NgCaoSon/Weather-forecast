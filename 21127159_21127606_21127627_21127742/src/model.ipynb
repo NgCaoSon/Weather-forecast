{
 "cells": [
  {
   "cell_type": "markdown",
   "metadata": {},
   "source": [
    "## Import  necessary Libraries"
   ]
  },
  {
   "cell_type": "code",
   "execution_count": 1,
   "metadata": {},
   "outputs": [],
   "source": [
    "from statsmodels.tsa.arima.model import ARIMA\n",
    "from statsmodels.tsa.statespace.sarimax import SARIMAX\n",
    "import numpy as np\n",
    "from math import sqrt\n",
    "import pandas as pd\n",
    "from sklearn.model_selection import train_test_split\n",
    "from sklearn.preprocessing import PolynomialFeatures\n",
    "from sklearn.linear_model import LinearRegression\n",
    "from sklearn.pipeline import make_pipeline\n",
    "from sklearn.metrics import mean_squared_error\n",
    "from matplotlib import pyplot as plt"
   ]
  },
  {
   "cell_type": "markdown",
   "metadata": {},
   "source": [
    "## Problem statement\n",
    "- Forecasting weather in near future is a very important task. \n",
    "- Purposes: It helps us to plan our day accordingly.\n",
    "\n",
    "   In this problem, we are going to predict the weather for the next 7 days. We are given the weather data of the past 3 months. We will use this data to train our model and then predict the weather for the next 7 days.\n"
   ]
  },
  {
   "cell_type": "markdown",
   "metadata": {},
   "source": [
    "## Data prerations"
   ]
  },
  {
   "cell_type": "code",
   "execution_count": 2,
   "metadata": {},
   "outputs": [
    {
     "data": {
      "text/html": [
       "<div>\n",
       "<style scoped>\n",
       "    .dataframe tbody tr th:only-of-type {\n",
       "        vertical-align: middle;\n",
       "    }\n",
       "\n",
       "    .dataframe tbody tr th {\n",
       "        vertical-align: top;\n",
       "    }\n",
       "\n",
       "    .dataframe thead th {\n",
       "        text-align: right;\n",
       "    }\n",
       "</style>\n",
       "<table border=\"1\" class=\"dataframe\">\n",
       "  <thead>\n",
       "    <tr style=\"text-align: right;\">\n",
       "      <th></th>\n",
       "      <th>datetime</th>\n",
       "      <th>temp (K)</th>\n",
       "      <th>feels_like</th>\n",
       "      <th>pressure</th>\n",
       "      <th>humidity</th>\n",
       "      <th>temp_min</th>\n",
       "      <th>temp_max</th>\n",
       "      <th>wind_speed</th>\n",
       "      <th>wind_deg</th>\n",
       "      <th>clouds_all</th>\n",
       "      <th>id_weather</th>\n",
       "      <th>main_weather</th>\n",
       "      <th>description_weather</th>\n",
       "      <th>icon_weather</th>\n",
       "    </tr>\n",
       "  </thead>\n",
       "  <tbody>\n",
       "    <tr>\n",
       "      <th>0</th>\n",
       "      <td>2022-12-09 17:00:00</td>\n",
       "      <td>299.16</td>\n",
       "      <td>299.16</td>\n",
       "      <td>1010.0</td>\n",
       "      <td>94.0</td>\n",
       "      <td>299.16</td>\n",
       "      <td>299.16</td>\n",
       "      <td>1.03</td>\n",
       "      <td>0.0</td>\n",
       "      <td>40.0</td>\n",
       "      <td>802.0</td>\n",
       "      <td>Clouds</td>\n",
       "      <td>scattered clouds</td>\n",
       "      <td>03n</td>\n",
       "    </tr>\n",
       "    <tr>\n",
       "      <th>1</th>\n",
       "      <td>2022-12-09 18:00:00</td>\n",
       "      <td>299.16</td>\n",
       "      <td>299.16</td>\n",
       "      <td>1009.0</td>\n",
       "      <td>94.0</td>\n",
       "      <td>299.16</td>\n",
       "      <td>299.16</td>\n",
       "      <td>1.03</td>\n",
       "      <td>0.0</td>\n",
       "      <td>40.0</td>\n",
       "      <td>802.0</td>\n",
       "      <td>Clouds</td>\n",
       "      <td>scattered clouds</td>\n",
       "      <td>03n</td>\n",
       "    </tr>\n",
       "    <tr>\n",
       "      <th>2</th>\n",
       "      <td>2022-12-09 19:00:00</td>\n",
       "      <td>298.16</td>\n",
       "      <td>299.33</td>\n",
       "      <td>1009.0</td>\n",
       "      <td>100.0</td>\n",
       "      <td>298.16</td>\n",
       "      <td>298.16</td>\n",
       "      <td>1.03</td>\n",
       "      <td>0.0</td>\n",
       "      <td>40.0</td>\n",
       "      <td>802.0</td>\n",
       "      <td>Clouds</td>\n",
       "      <td>scattered clouds</td>\n",
       "      <td>03n</td>\n",
       "    </tr>\n",
       "    <tr>\n",
       "      <th>3</th>\n",
       "      <td>2022-12-09 20:00:00</td>\n",
       "      <td>298.16</td>\n",
       "      <td>298.88</td>\n",
       "      <td>1008.0</td>\n",
       "      <td>83.0</td>\n",
       "      <td>298.16</td>\n",
       "      <td>298.16</td>\n",
       "      <td>1.03</td>\n",
       "      <td>20.0</td>\n",
       "      <td>40.0</td>\n",
       "      <td>802.0</td>\n",
       "      <td>Clouds</td>\n",
       "      <td>scattered clouds</td>\n",
       "      <td>03n</td>\n",
       "    </tr>\n",
       "    <tr>\n",
       "      <th>4</th>\n",
       "      <td>2022-12-09 21:00:00</td>\n",
       "      <td>298.16</td>\n",
       "      <td>298.88</td>\n",
       "      <td>1008.0</td>\n",
       "      <td>83.0</td>\n",
       "      <td>298.16</td>\n",
       "      <td>298.16</td>\n",
       "      <td>1.03</td>\n",
       "      <td>50.0</td>\n",
       "      <td>40.0</td>\n",
       "      <td>802.0</td>\n",
       "      <td>Clouds</td>\n",
       "      <td>scattered clouds</td>\n",
       "      <td>03n</td>\n",
       "    </tr>\n",
       "  </tbody>\n",
       "</table>\n",
       "</div>"
      ],
      "text/plain": [
       "              datetime  temp (K)  feels_like  pressure  humidity  temp_min  \\\n",
       "0  2022-12-09 17:00:00    299.16      299.16    1010.0      94.0    299.16   \n",
       "1  2022-12-09 18:00:00    299.16      299.16    1009.0      94.0    299.16   \n",
       "2  2022-12-09 19:00:00    298.16      299.33    1009.0     100.0    298.16   \n",
       "3  2022-12-09 20:00:00    298.16      298.88    1008.0      83.0    298.16   \n",
       "4  2022-12-09 21:00:00    298.16      298.88    1008.0      83.0    298.16   \n",
       "\n",
       "   temp_max  wind_speed  wind_deg  clouds_all  id_weather main_weather  \\\n",
       "0    299.16        1.03       0.0        40.0       802.0       Clouds   \n",
       "1    299.16        1.03       0.0        40.0       802.0       Clouds   \n",
       "2    298.16        1.03       0.0        40.0       802.0       Clouds   \n",
       "3    298.16        1.03      20.0        40.0       802.0       Clouds   \n",
       "4    298.16        1.03      50.0        40.0       802.0       Clouds   \n",
       "\n",
       "  description_weather icon_weather  \n",
       "0    scattered clouds          03n  \n",
       "1    scattered clouds          03n  \n",
       "2    scattered clouds          03n  \n",
       "3    scattered clouds          03n  \n",
       "4    scattered clouds          03n  "
      ]
     },
     "execution_count": 2,
     "metadata": {},
     "output_type": "execute_result"
    }
   ],
   "source": [
    "# read pre_processed data\n",
    "df = pd.read_csv('../data/processed/processed_data.csv')\n",
    "df.head()"
   ]
  },
  {
   "cell_type": "markdown",
   "metadata": {},
   "source": [
    "### Splitting the data into train and test set"
   ]
  },
  {
   "cell_type": "code",
   "execution_count": 3,
   "metadata": {},
   "outputs": [
    {
     "data": {
      "text/plain": [
       "((6969, 9), (1743, 9), (6969,), (1743,))"
      ]
     },
     "execution_count": 3,
     "metadata": {},
     "output_type": "execute_result"
    }
   ],
   "source": [
    "#split data into train and test\n",
    "df_copy = df.drop(columns=['datetime'])\n",
    "x_train,x_test,y_train,y_test = train_test_split(df_copy,df['temp (K)'],test_size=0.2,random_state=0)\n",
    "x_train.shape,x_test.shape,y_train.shape,y_test.shape"
   ]
  },
  {
   "cell_type": "markdown",
   "metadata": {},
   "source": [
    "## Polynomial Regression Model"
   ]
  },
  {
   "cell_type": "code",
   "execution_count": 4,
   "metadata": {},
   "outputs": [
    {
     "name": "stdout",
     "output_type": "stream",
     "text": [
      "Coefficient for temp (K): -0.0\n",
      "Coefficient for feels_like: 0.333\n",
      "Coefficient for pressure: 0.0\n",
      "Coefficient for humidity: -0.0\n",
      "Coefficient for temp_min: -0.0\n",
      "Coefficient for temp_max: 0.333\n",
      "Coefficient for wind_speed: 0.333\n",
      "Coefficient for wind_deg: 0.0\n",
      "Coefficient for clouds_all: -0.0\n"
     ]
    }
   ],
   "source": [
    "# train model Polynomial Regression\n",
    "model = make_pipeline(PolynomialFeatures(2), LinearRegression())\n",
    "model.fit(x_train, y_train)\n",
    "coefficients = model.named_steps['linearregression'].coef_\n",
    "for feature, coef in zip(df_copy.columns, coefficients):\n",
    "    print(f\"Coefficient for {feature}: {coef.round(3)}\")"
   ]
  },
  {
   "cell_type": "markdown",
   "metadata": {},
   "source": [
    " ## Meaning of coefficients of polynomial regression model\n",
    "- The coefficients for `temp (K)`, `pressure`, `humidity`, `temp_min`, and `wind_deg` are all zero. This means these features have no direct impact on the predicted value (y) in your model.\n",
    " - The coefficient for `feels_like`, `temp_max`, `wind_speed` is 0.`333`. This means that a one-unit increase in this attributes is associated with an increase of 0.333 units in the predicted value."
   ]
  },
  {
   "cell_type": "markdown",
   "metadata": {},
   "source": [
    "## Metrics: RMSE"
   ]
  },
  {
   "cell_type": "code",
   "execution_count": 5,
   "metadata": {},
   "outputs": [
    {
     "name": "stdout",
     "output_type": "stream",
     "text": [
      "Test RMSE: 0.005\n"
     ]
    }
   ],
   "source": [
    "x_test = x_test.reset_index(drop=True)\n",
    "y_test = y_test.reset_index(drop=True)\n",
    "y_pred = model.predict(x_test)\n",
    "# metric\n",
    "rmse = sqrt(mean_squared_error(y_test, y_pred))\n",
    "print('Test RMSE: %.3f' % rmse)"
   ]
  },
  {
   "cell_type": "markdown",
   "metadata": {},
   "source": [
    "## Visualizing the results of Polynomial Regression Model"
   ]
  },
  {
   "cell_type": "code",
   "execution_count": 6,
   "metadata": {},
   "outputs": [
    {
     "data": {
      "image/png": "[encoded data removed]",
      "text/plain": [
       "<Figure size 640x480 with 1 Axes>"
      ]
     },
     "metadata": {},
     "output_type": "display_data"
    }
   ],
   "source": [
    "#visualize the results\n",
    "import matplotlib.pyplot as plt\n",
    "plt.plot(y_test, y_pred, '.')\n",
    "plt.title('Polynomial Regression')\n",
    "plt.xlabel('True Values')\n",
    "plt.ylabel('Predictions')\n",
    "plt.legend(['RMSE: %.3f' % rmse])\n",
    "plt.show()\n"
   ]
  },
  {
   "cell_type": "markdown",
   "metadata": {},
   "source": [
    "$$\\text{temp (K)} = 0.333*\\text{feels like} + 0.333*\\text{temp max} + 0.333*\\text{wind speed}$$"
   ]
  },
  {
   "cell_type": "markdown",
   "metadata": {},
   "source": [
    "## ARIMA (Auto Regressive Integrated Moving Average) Model"
   ]
  },
  {
   "cell_type": "code",
   "execution_count": 7,
   "metadata": {},
   "outputs": [],
   "source": [
    "# model ARIMA(AutoRegressive Integrated Moving Average)\n",
    "\n",
    "# split data into train and test sets\n",
    "X = df['temp (K)'].values\n",
    "size = int(len(X) * 0.66)\n",
    "train, test = X[0:size], X[size:len(X)]\n",
    "history = [x for x in train]\n",
    "predictions = list()\n",
    "\n",
    "# walk-forward validation\n",
    "for t in range(len(test)):\n",
    "    model = ARIMA(history, order=(2,1,0))\n",
    "    model_fit = model.fit()\n",
    "    output = model_fit.forecast()\n",
    "    yhat = output[0]\n",
    "    predictions.append(yhat)\n",
    "    obs = test[t]\n",
    "    history.append(obs)\n",
    "\n",
    "\n"
   ]
  },
  {
   "cell_type": "markdown",
   "metadata": {},
   "source": [
    "## Coefficients of ARIMA Model"
   ]
  },
  {
   "cell_type": "code",
   "execution_count": 8,
   "metadata": {},
   "outputs": [
    {
     "name": "stdout",
     "output_type": "stream",
     "text": [
      "[0.18102282 0.17507519 1.27815252]\n"
     ]
    }
   ],
   "source": [
    "# coefficients\n",
    "all_coefs = model_fit.params\n",
    "print(all_coefs)"
   ]
  },
  {
   "cell_type": "markdown",
   "metadata": {},
   "source": [
    "## Meaning of this coefficients\n",
    "- The AR coefficients (`0.18102282` and `0.17507519`) indicate the degree to which previous temperature values affect the current temperature value.\n",
    "    - In this case, the first two coefficients indicate that the current temperature value is affected by the temperature of the previous 2 days.\n",
    "    - The positive values of these coefficients indicate that the temperature value of the previous day tends to have a positive impact on the temperature value of the current day.\n",
    "- The MA coefficient (`1.27815252`) indicates the degree to which previous forecast errors affect the current forecast error.\n",
    "    - In this case, the MA coefficient indicates that the current forecast error is affected by the forecast error of the previous day.\n",
    "    - The positive value of the MA coefficient indicates that the forecast error of the previous day tends to have a positive impact on the forecast error of the current day."
   ]
  },
  {
   "cell_type": "markdown",
   "metadata": {},
   "source": [
    "## Metrics: MSE"
   ]
  },
  {
   "cell_type": "code",
   "execution_count": 9,
   "metadata": {},
   "outputs": [
    {
     "name": "stdout",
     "output_type": "stream",
     "text": [
      "Test RMSE: 1.164\n"
     ]
    }
   ],
   "source": [
    "# Evaluate forecasts\n",
    "rmse = sqrt(mean_squared_error(test, predictions))\n",
    "print('Test RMSE: %.3f' % rmse)"
   ]
  },
  {
   "cell_type": "markdown",
   "metadata": {},
   "source": [
    "## Visualizing the results of ARIMA model"
   ]
  },
  {
   "cell_type": "code",
   "execution_count": 10,
   "metadata": {},
   "outputs": [
    {
     "data": {
      "image/png": "[encoded data removed]",
      "text/plain": [
       "<Figure size 640x480 with 1 Axes>"
      ]
     },
     "metadata": {},
     "output_type": "display_data"
    }
   ],
   "source": [
    "#visualize the results\n",
    "plt.plot(test, predictions, '.')\n",
    "plt.title('ARIMA Model')\n",
    "plt.xlabel('True Values')\n",
    "plt.ylabel('Predictions')\n",
    "plt.legend(['RMSE: %.3f' % rmse])\n",
    "plt.show()"
   ]
  }
 ],
 "metadata": {
  "kernelspec": {
   "display_name": "min_ds-env",
   "language": "python",
   "name": "python3"
  },
  "language_info": {
   "codemirror_mode": {
    "name": "ipython",
    "version": 3
   },
   "file_extension": ".py",
   "mimetype": "text/x-python",
   "name": "python",
   "nbconvert_exporter": "python",
   "pygments_lexer": "ipython3",
   "version": "3.11.6"
  }
 },
 "nbformat": 4,
 "nbformat_minor": 2
}
